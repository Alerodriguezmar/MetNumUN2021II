{
  "nbformat": 4,
  "nbformat_minor": 0,
  "metadata": {
    "kernelspec": {
      "display_name": "Python 3",
      "language": "python",
      "name": "python3"
    },
    "language_info": {
      "codemirror_mode": {
        "name": "ipython",
        "version": 3
      },
      "file_extension": ".py",
      "mimetype": "text/x-python",
      "name": "python",
      "nbconvert_exporter": "python",
      "pygments_lexer": "ipython3",
      "version": "3.6.4"
    },
    "colab": {
      "name": "04_NumPy_and_Basic_Pandas.ipynb",
      "provenance": [],
      "collapsed_sections": []
    }
  },
  "cells": [
    {
      "cell_type": "markdown",
      "metadata": {
        "id": "dQbENH6mexTd"
      },
      "source": [
        "\n",
        "# 04 NumPy and Basic Pandas\n",
        "\n",
        "# NumPy"
      ]
    },
    {
      "cell_type": "code",
      "metadata": {
        "id": "aIESp-rdO58h"
      },
      "source": [
        "import numpy as np"
      ],
      "execution_count": 3,
      "outputs": []
    },
    {
      "cell_type": "markdown",
      "metadata": {
        "id": "GScHHJ5ke7ea"
      },
      "source": [
        "## Basic NumPy Arrays"
      ]
    },
    {
      "cell_type": "code",
      "metadata": {
        "id": "lZI1wkwDO58i",
        "colab": {
          "base_uri": "https://localhost:8080/"
        },
        "outputId": "ce82e0dd-8d29-4cc5-9bc2-edda449ddc65"
      },
      "source": [
        "price_list = [269.36, 365.83, 13.68, 44.02, 13.5, 42.62,569.356]\n",
        "price_array = np.array(price_list)\n",
        "print(price_array, type(price_array))"
      ],
      "execution_count": 5,
      "outputs": [
        {
          "output_type": "stream",
          "name": "stdout",
          "text": [
            "[269.36  365.83   13.68   44.02   13.5    42.62  569.356] <class 'numpy.ndarray'>\n"
          ]
        }
      ]
    },
    {
      "cell_type": "code",
      "metadata": {
        "id": "obvIZrK-O58j",
        "colab": {
          "base_uri": "https://localhost:8080/"
        },
        "outputId": "3d61427f-17cc-48d1-8cd6-8aa2904f7aa3"
      },
      "source": [
        "Ar = np.array([[1,3,6],[2,4,5],[2,6,8]])\n",
        "print(Ar, type(Ar))"
      ],
      "execution_count": 9,
      "outputs": [
        {
          "output_type": "stream",
          "name": "stdout",
          "text": [
            "[[1 3 6]\n",
            " [2 4 5]\n",
            " [2 6 8]] <class 'numpy.ndarray'>\n"
          ]
        }
      ]
    },
    {
      "cell_type": "code",
      "metadata": {
        "id": "G2txdn73O58j",
        "colab": {
          "base_uri": "https://localhost:8080/"
        },
        "outputId": "c2f60d2e-f7f6-42ed-e859-319fcb2dde87"
      },
      "source": [
        "print(Ar.shape)"
      ],
      "execution_count": 10,
      "outputs": [
        {
          "output_type": "stream",
          "name": "stdout",
          "text": [
            "(3, 3)\n"
          ]
        }
      ]
    },
    {
      "cell_type": "code",
      "metadata": {
        "id": "x_QV9aPbO58j",
        "colab": {
          "base_uri": "https://localhost:8080/"
        },
        "outputId": "92031864-442e-4b55-8862-21abf544b87a"
      },
      "source": [
        "print(Ar[0])\n",
        "print(Ar[1])\n",
        "print(Ar[2])"
      ],
      "execution_count": 12,
      "outputs": [
        {
          "output_type": "stream",
          "name": "stdout",
          "text": [
            "[1 3 6]\n",
            "[2 4 5]\n",
            "[2 6 8]\n"
          ]
        }
      ]
    },
    {
      "cell_type": "code",
      "metadata": {
        "id": "gHVwbPfOO58j",
        "colab": {
          "base_uri": "https://localhost:8080/"
        },
        "outputId": "9009d04b-e6d9-41f6-f9a5-97d870533649"
      },
      "source": [
        "print('the first column: ', Ar[:,0])\n",
        "print('the second column: ', Ar[:,1])\n",
        "print('the thrid column: ',Ar[:,2])"
      ],
      "execution_count": 15,
      "outputs": [
        {
          "output_type": "stream",
          "name": "stdout",
          "text": [
            "the first column:  [1 2 2]\n",
            "the second column:  [3 4 6]\n",
            "the thrid column:  [6 5 8]\n"
          ]
        }
      ]
    },
    {
      "cell_type": "markdown",
      "metadata": {
        "id": "T61cD0HMfStB"
      },
      "source": [
        "## Array Functions"
      ]
    },
    {
      "cell_type": "code",
      "metadata": {
        "id": "PKhwtJ7XO58k",
        "colab": {
          "base_uri": "https://localhost:8080/"
        },
        "outputId": "033b5c88-102c-40ff-f2f5-1a9e72930336"
      },
      "source": [
        "print(np.log(price_array))"
      ],
      "execution_count": 16,
      "outputs": [
        {
          "output_type": "stream",
          "name": "stdout",
          "text": [
            "[5.59604877 5.90216874 2.61593491 3.78464408 2.60268969 3.75232363\n",
            " 6.3445059 ]\n"
          ]
        }
      ]
    },
    {
      "cell_type": "code",
      "metadata": {
        "id": "nQuABZqUO58k",
        "colab": {
          "base_uri": "https://localhost:8080/"
        },
        "outputId": "292d0cba-c858-4bc4-9c9e-25ea286494df"
      },
      "source": [
        "print(np.mean(price_array))\n",
        "print(np.std(price_array))\n",
        "print(np.sum(price_array))\n",
        "print(np.max(price_array))"
      ],
      "execution_count": 18,
      "outputs": [
        {
          "output_type": "stream",
          "name": "stdout",
          "text": [
            "188.338\n",
            "202.26497992485008\n",
            "1318.366\n",
            "569.356\n"
          ]
        }
      ]
    },
    {
      "cell_type": "markdown",
      "metadata": {
        "id": "IRW95BsifgDB"
      },
      "source": [
        "# Pandas"
      ]
    },
    {
      "cell_type": "code",
      "metadata": {
        "id": "xIYH4oUfO58k"
      },
      "source": [
        "import pandas as pd"
      ],
      "execution_count": 19,
      "outputs": []
    },
    {
      "cell_type": "markdown",
      "metadata": {
        "id": "zOig5gORfnJU"
      },
      "source": [
        "## Series"
      ]
    },
    {
      "cell_type": "code",
      "metadata": {
        "id": "JmzoNzrPO58k",
        "colab": {
          "base_uri": "https://localhost:8080/"
        },
        "outputId": "a856d193-ade2-4c05-c986-39a37947ba16"
      },
      "source": [
        "price = [13.73, 45.83, 143.68, 144.02, 143.5, 142.62,68.65]\n",
        "s = pd.Series(price)\n",
        "s"
      ],
      "execution_count": 27,
      "outputs": [
        {
          "output_type": "execute_result",
          "data": {
            "text/plain": [
              "0     13.73\n",
              "1     45.83\n",
              "2    143.68\n",
              "3    144.02\n",
              "4    143.50\n",
              "5    142.62\n",
              "6     68.65\n",
              "dtype: float64"
            ]
          },
          "metadata": {},
          "execution_count": 27
        }
      ]
    },
    {
      "cell_type": "code",
      "metadata": {
        "id": "eswQC3ZPO58l",
        "colab": {
          "base_uri": "https://localhost:8080/"
        },
        "outputId": "d87f6033-f449-40e8-b151-25d40e428159"
      },
      "source": [
        "s = pd.Series(price,index = [1,2,3,4,5,6,7])\n",
        "s"
      ],
      "execution_count": 33,
      "outputs": [
        {
          "output_type": "execute_result",
          "data": {
            "text/plain": [
              "1     13.73\n",
              "2     45.83\n",
              "3    143.68\n",
              "4    144.02\n",
              "5    143.50\n",
              "6    142.62\n",
              "7     68.65\n",
              "dtype: float64"
            ]
          },
          "metadata": {},
          "execution_count": 33
        }
      ]
    },
    {
      "cell_type": "code",
      "metadata": {
        "id": "MwlRnPF6O58l",
        "colab": {
          "base_uri": "https://localhost:8080/"
        },
        "outputId": "d1702d4a-29a4-46da-ae39-ac1ab33497be"
      },
      "source": [
        "s.index = [7,6,5,4,3,2,1]\n",
        "s"
      ],
      "execution_count": 34,
      "outputs": [
        {
          "output_type": "execute_result",
          "data": {
            "text/plain": [
              "7     13.73\n",
              "6     45.83\n",
              "5    143.68\n",
              "4    144.02\n",
              "3    143.50\n",
              "2    142.62\n",
              "1     68.65\n",
              "dtype: float64"
            ]
          },
          "metadata": {},
          "execution_count": 34
        }
      ]
    },
    {
      "cell_type": "code",
      "metadata": {
        "id": "N9bBSg6cO58l",
        "colab": {
          "base_uri": "https://localhost:8080/"
        },
        "outputId": "91e49ee4-bdc2-4478-9c11-016e0049da1c"
      },
      "source": [
        "print(s[2:])\n",
        "print(s[:-3])"
      ],
      "execution_count": 36,
      "outputs": [
        {
          "output_type": "stream",
          "name": "stdout",
          "text": [
            "5    143.68\n",
            "4    144.02\n",
            "3    143.50\n",
            "2    142.62\n",
            "1     68.65\n",
            "dtype: float64\n",
            "7     13.73\n",
            "6     45.83\n",
            "5    143.68\n",
            "4    144.02\n",
            "dtype: float64\n"
          ]
        }
      ]
    },
    {
      "cell_type": "code",
      "metadata": {
        "id": "b3Y0kKGYO58l",
        "colab": {
          "base_uri": "https://localhost:8080/"
        },
        "outputId": "6f7fd6ba-d4a4-4653-f99d-433651727115"
      },
      "source": [
        "print(s[5])\n",
        "s[5] = 0\n",
        "print(s)"
      ],
      "execution_count": 37,
      "outputs": [
        {
          "output_type": "stream",
          "name": "stdout",
          "text": [
            "143.68\n",
            "7     13.73\n",
            "6     45.83\n",
            "5      0.00\n",
            "4    144.02\n",
            "3    143.50\n",
            "2    142.62\n",
            "1     68.65\n",
            "dtype: float64\n"
          ]
        }
      ]
    },
    {
      "cell_type": "code",
      "metadata": {
        "id": "ZeD4-p7KO58m",
        "colab": {
          "base_uri": "https://localhost:8080/"
        },
        "outputId": "f8e8c974-d31d-41cf-e0d2-6ef8a487d89a"
      },
      "source": [
        "s = pd.Series(price, name = 'Price suggested List')\n",
        "print(s)\n",
        "print(s.name)"
      ],
      "execution_count": 38,
      "outputs": [
        {
          "output_type": "stream",
          "name": "stdout",
          "text": [
            "0     13.73\n",
            "1     45.83\n",
            "2    143.68\n",
            "3    144.02\n",
            "4    143.50\n",
            "5    142.62\n",
            "6     68.65\n",
            "Name: Price suggested List, dtype: float64\n",
            "Price suggested List\n"
          ]
        }
      ]
    },
    {
      "cell_type": "code",
      "metadata": {
        "colab": {
          "base_uri": "https://localhost:8080/"
        },
        "id": "mGPtFcjegm4i",
        "outputId": "20e5af75-6331-4454-9526-ab915d2624d5"
      },
      "source": [
        "print(s.describe())"
      ],
      "execution_count": 53,
      "outputs": [
        {
          "output_type": "stream",
          "name": "stdout",
          "text": [
            "count      7.00000\n",
            "mean     100.29000\n",
            "std       56.14498\n",
            "min       13.73000\n",
            "25%       57.24000\n",
            "50%      142.62000\n",
            "75%      143.59000\n",
            "max      144.02000\n",
            "Name: Price suggested List, dtype: float64\n"
          ]
        }
      ]
    },
    {
      "cell_type": "markdown",
      "metadata": {
        "id": "LkdZu-CDgvlR"
      },
      "source": [
        "## Time Index"
      ]
    },
    {
      "cell_type": "code",
      "metadata": {
        "id": "HJe5hU4zO58m",
        "colab": {
          "base_uri": "https://localhost:8080/"
        },
        "outputId": "e2ce2d4a-0b0a-49f3-8dd2-fa91046a7225"
      },
      "source": [
        "time_index = pd.date_range('2017-01-01',periods = len(s),freq = 'D')\n",
        "print(time_index)\n",
        "s.index = time_index\n",
        "print(s)"
      ],
      "execution_count": 54,
      "outputs": [
        {
          "output_type": "stream",
          "name": "stdout",
          "text": [
            "DatetimeIndex(['2017-01-01', '2017-01-02', '2017-01-03', '2017-01-04',\n",
            "               '2017-01-05', '2017-01-06', '2017-01-07'],\n",
            "              dtype='datetime64[ns]', freq='D')\n",
            "2017-01-01     13.73\n",
            "2017-01-02     45.83\n",
            "2017-01-03    143.68\n",
            "2017-01-04    144.02\n",
            "2017-01-05    143.50\n",
            "2017-01-06    142.62\n",
            "2017-01-07     68.65\n",
            "Freq: D, Name: Price suggested List, dtype: float64\n"
          ]
        }
      ]
    },
    {
      "cell_type": "code",
      "metadata": {
        "id": "KrVSOyMvO58m",
        "colab": {
          "base_uri": "https://localhost:8080/"
        },
        "outputId": "2a7981b2-e58a-44cf-e5ea-79dce6a4400c"
      },
      "source": [
        "s.index = [7,6,5,4,3,2,1]\n",
        "print(s)\n",
        "print(s[1])"
      ],
      "execution_count": 60,
      "outputs": [
        {
          "output_type": "stream",
          "name": "stdout",
          "text": [
            "7     13.73\n",
            "6     45.83\n",
            "5    143.68\n",
            "4    144.02\n",
            "3    143.50\n",
            "2    142.62\n",
            "1     68.65\n",
            "Name: Price suggested List, dtype: float64\n",
            "68.65\n"
          ]
        }
      ]
    },
    {
      "cell_type": "code",
      "metadata": {
        "id": "bHukfaAmO58m",
        "colab": {
          "base_uri": "https://localhost:8080/"
        },
        "outputId": "93996d29-f5af-4f5f-efa6-a185c5340a4b"
      },
      "source": [
        "print(s.iloc[6])"
      ],
      "execution_count": 57,
      "outputs": [
        {
          "output_type": "stream",
          "name": "stdout",
          "text": [
            "68.65\n"
          ]
        }
      ]
    },
    {
      "cell_type": "code",
      "metadata": {
        "id": "FCf8Hg7jO58n",
        "colab": {
          "base_uri": "https://localhost:8080/"
        },
        "outputId": "9c648344-c239-4c62-a5aa-75a83bb3b559"
      },
      "source": [
        "s.index = time_index\n",
        "print(s['2017-01-03'])"
      ],
      "execution_count": 62,
      "outputs": [
        {
          "output_type": "stream",
          "name": "stdout",
          "text": [
            "143.68\n"
          ]
        }
      ]
    },
    {
      "cell_type": "code",
      "metadata": {
        "id": "NsE-Lr_9O58n",
        "colab": {
          "base_uri": "https://localhost:8080/"
        },
        "outputId": "afba9576-737c-4a6a-dc70-888ef94b1a65"
      },
      "source": [
        "print(s['2017-01-02':'2021-10-18'])"
      ],
      "execution_count": 65,
      "outputs": [
        {
          "output_type": "stream",
          "name": "stdout",
          "text": [
            "2017-01-02     45.83\n",
            "2017-01-03    143.68\n",
            "2017-01-04    144.02\n",
            "2017-01-05    143.50\n",
            "2017-01-06    142.62\n",
            "2017-01-07     68.65\n",
            "Freq: D, Name: Price suggested List, dtype: float64\n"
          ]
        }
      ]
    },
    {
      "cell_type": "code",
      "metadata": {
        "id": "aawbrg2EO58n",
        "colab": {
          "base_uri": "https://localhost:8080/"
        },
        "outputId": "4b71db7a-43de-4765-9931-9b4c253a8527"
      },
      "source": [
        "print(s[s < np.mean(s)] )\n",
        "print([(s > np.mean(s)) & (s < np.mean(s) + 1.64*np.std(s))])"
      ],
      "execution_count": 66,
      "outputs": [
        {
          "output_type": "stream",
          "name": "stdout",
          "text": [
            "2017-01-01    13.73\n",
            "2017-01-02    45.83\n",
            "2017-01-07    68.65\n",
            "Name: Price suggested List, dtype: float64\n",
            "[2017-01-01    False\n",
            "2017-01-02    False\n",
            "2017-01-03     True\n",
            "2017-01-04     True\n",
            "2017-01-05     True\n",
            "2017-01-06     True\n",
            "2017-01-07    False\n",
            "Freq: D, Name: Price suggested List, dtype: bool]\n"
          ]
        }
      ]
    }
  ]
}
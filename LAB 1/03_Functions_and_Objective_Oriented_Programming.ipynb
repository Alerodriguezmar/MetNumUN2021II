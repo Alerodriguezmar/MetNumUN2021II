{
  "nbformat": 4,
  "nbformat_minor": 0,
  "metadata": {
    "kernelspec": {
      "display_name": "Python 3",
      "language": "python",
      "name": "python3"
    },
    "language_info": {
      "codemirror_mode": {
        "name": "ipython",
        "version": 3
      },
      "file_extension": ".py",
      "mimetype": "text/x-python",
      "name": "python",
      "nbconvert_exporter": "python",
      "pygments_lexer": "ipython3",
      "version": "3.6.4"
    },
    "colab": {
      "name": "03_Functions_and_Objective_Oriented_Programming.ipynb",
      "provenance": [],
      "collapsed_sections": [
        "lHwqVpWVb1Jr"
      ]
    }
  },
  "cells": [
    {
      "cell_type": "markdown",
      "metadata": {
        "id": "Tef_X2wJbdhn"
      },
      "source": [
        "\n",
        "# 03 Functions and Objective-Oriented Programming\n",
        "\n",
        "# Functions"
      ]
    },
    {
      "cell_type": "code",
      "metadata": {
        "id": "eE_NkTiSO2PO",
        "colab": {
          "base_uri": "https://localhost:8080/"
        },
        "outputId": "612ff908-2c92-4903-91eb-26f6ce8f1e16"
      },
      "source": [
        "def product(x,y):\n",
        "    return x**y\n",
        "\n",
        "print(product(2,8))\n",
        "print(product(2,10))"
      ],
      "execution_count": 2,
      "outputs": [
        {
          "output_type": "stream",
          "name": "stdout",
          "text": [
            "256\n",
            "1024\n"
          ]
        }
      ]
    },
    {
      "cell_type": "code",
      "metadata": {
        "id": "JhdWVLbUO2PQ",
        "colab": {
          "base_uri": "https://localhost:8080/"
        },
        "outputId": "bb429c7b-5220-47e3-9ac3-c96316fa0795"
      },
      "source": [
        "def say_hi():\n",
        "    print('Welcome to Numeric Methods')\n",
        "say_hi()"
      ],
      "execution_count": 3,
      "outputs": [
        {
          "output_type": "stream",
          "name": "stdout",
          "text": [
            "Welcome to Numeric Methods\n"
          ]
        }
      ]
    },
    {
      "cell_type": "markdown",
      "metadata": {
        "id": "lHwqVpWVb1Jr"
      },
      "source": [
        "# Built-in Function"
      ]
    },
    {
      "cell_type": "code",
      "metadata": {
        "id": "VVOTELcIO2PQ",
        "colab": {
          "base_uri": "https://localhost:8080/"
        },
        "outputId": "a7853b56-ddcb-44bd-f897-8f83c2cc5ae7"
      },
      "source": [
        "print(range(10))\n",
        "print(range(8,20))\n",
        "print(range(5,12,2))"
      ],
      "execution_count": 5,
      "outputs": [
        {
          "output_type": "stream",
          "name": "stdout",
          "text": [
            "range(0, 10)\n",
            "range(8, 20)\n",
            "range(5, 12, 2)\n"
          ]
        }
      ]
    },
    {
      "cell_type": "code",
      "metadata": {
        "id": "Hg18c7v-O2PR",
        "colab": {
          "base_uri": "https://localhost:8080/"
        },
        "outputId": "9168fa50-8445-4aed-da53-d72f231f573e"
      },
      "source": [
        "tickers = ['QWE','RTY','UIO','PAS','DFG','HJK', 'LZX', 'CVB','NMQ']\n",
        "print('The length of tickers is {}'.format(len(tickers)))\n",
        "for i in range(len(tickers)):\n",
        "    print(tickers[i])"
      ],
      "execution_count": 9,
      "outputs": [
        {
          "output_type": "stream",
          "name": "stdout",
          "text": [
            "The length of tickers is 9\n",
            "QWE\n",
            "RTY\n",
            "UIO\n",
            "PAS\n",
            "DFG\n",
            "HJK\n",
            "LZX\n",
            "CVB\n",
            "NMQ\n"
          ]
        }
      ]
    },
    {
      "cell_type": "code",
      "metadata": {
        "id": "78DyKVOyO2PR",
        "colab": {
          "base_uri": "https://localhost:8080/"
        },
        "outputId": "f2c7c303-99fa-48aa-85e6-1e2d0cd9ce07"
      },
      "source": [
        "tickers = ['QWER','AS','FGHJ','FAB','FTYUI','LV', 'G', 'GHJK']\n",
        "print(list(map(len,tickers)))"
      ],
      "execution_count": 10,
      "outputs": [
        {
          "output_type": "stream",
          "name": "stdout",
          "text": [
            "[4, 2, 4, 3, 5, 2, 1, 4]\n"
          ]
        }
      ]
    },
    {
      "cell_type": "code",
      "metadata": {
        "id": "pAEHADYXO2PR",
        "colab": {
          "base_uri": "https://localhost:8080/"
        },
        "outputId": "43047d31-05d3-4d2b-c3d4-67eb49b66967"
      },
      "source": [
        "list(map(lambda x: x**3, range(12)))"
      ],
      "execution_count": 11,
      "outputs": [
        {
          "output_type": "execute_result",
          "data": {
            "text/plain": [
              "[0, 1, 8, 27, 64, 125, 216, 343, 512, 729, 1000, 1331]"
            ]
          },
          "metadata": {},
          "execution_count": 11
        }
      ]
    },
    {
      "cell_type": "code",
      "metadata": {
        "id": "HtckhAaJO2PS",
        "colab": {
          "base_uri": "https://localhost:8080/"
        },
        "outputId": "e25ca065-4871-4662-b653-12d0dac88d08"
      },
      "source": [
        "list(map(lambda x, y,z: x+y+z, [8,1,6],[3,5,7],[4,9,2]))"
      ],
      "execution_count": 12,
      "outputs": [
        {
          "output_type": "execute_result",
          "data": {
            "text/plain": [
              "[15, 15, 15]"
            ]
          },
          "metadata": {},
          "execution_count": 12
        }
      ]
    },
    {
      "cell_type": "code",
      "metadata": {
        "id": "P0sHUMFWO2PS",
        "colab": {
          "base_uri": "https://localhost:8080/"
        },
        "outputId": "63bb3b29-fff5-42cc-ce57-15f3dda2e7e6"
      },
      "source": [
        "sorted([6,5,2,6,1,4,7,3])"
      ],
      "execution_count": 15,
      "outputs": [
        {
          "output_type": "execute_result",
          "data": {
            "text/plain": [
              "[1, 2, 3, 4, 5, 6, 6, 7]"
            ]
          },
          "metadata": {},
          "execution_count": 15
        }
      ]
    },
    {
      "cell_type": "code",
      "metadata": {
        "id": "0i3peZ0bO2PS",
        "colab": {
          "base_uri": "https://localhost:8080/"
        },
        "outputId": "07014606-9cca-4ea1-bc74-4a92b59aa02c"
      },
      "source": [
        "price_list = [('AAPL',144.09),('GOOG',911.71),('MSFT',69),('FB',150),('WMT',75.32)]\n",
        "sorted(price_list, key = lambda x: x[1])"
      ],
      "execution_count": 16,
      "outputs": [
        {
          "output_type": "execute_result",
          "data": {
            "text/plain": [
              "[('MSFT', 69), ('WMT', 75.32), ('AAPL', 144.09), ('FB', 150), ('GOOG', 911.71)]"
            ]
          },
          "metadata": {},
          "execution_count": 16
        }
      ]
    },
    {
      "cell_type": "code",
      "metadata": {
        "id": "dEZqdl94O2PT",
        "colab": {
          "base_uri": "https://localhost:8080/"
        },
        "outputId": "5e45b09f-54fd-42dc-fc38-b466d23184d5"
      },
      "source": [
        "price_list = [('ABC',112.09),('QWE',711.71),('RTY',12),('HG',150),('LKJ',5.32)]\n",
        "sorted(price_list, key = lambda x: x[1],reverse = True)"
      ],
      "execution_count": 18,
      "outputs": [
        {
          "output_type": "execute_result",
          "data": {
            "text/plain": [
              "[('QWE', 711.71), ('HG', 150), ('ABC', 112.09), ('RTY', 12), ('LKJ', 5.32)]"
            ]
          },
          "metadata": {},
          "execution_count": 18
        }
      ]
    },
    {
      "cell_type": "code",
      "metadata": {
        "id": "pG9VQCLnO2PT",
        "colab": {
          "base_uri": "https://localhost:8080/"
        },
        "outputId": "ea2378de-5f59-4d50-c27f-4896f47c483a"
      },
      "source": [
        "price_list = [('ADS',123.09),('QWE',789.71),('RTY',456),('LKJ',223),('JHG',58.32)]\n",
        "price_list.sort(key = lambda x: x[1])\n",
        "print(price_list)"
      ],
      "execution_count": 20,
      "outputs": [
        {
          "output_type": "stream",
          "name": "stdout",
          "text": [
            "[('JHG', 58.32), ('ADS', 123.09), ('LKJ', 223), ('RTY', 456), ('QWE', 789.71)]\n"
          ]
        }
      ]
    },
    {
      "cell_type": "markdown",
      "metadata": {
        "id": "mxljL1W1c_c5"
      },
      "source": [
        "# Object-Oriented Programming\n",
        "\n",
        "## Class"
      ]
    },
    {
      "cell_type": "code",
      "metadata": {
        "id": "zC4Y4PgDO2PT"
      },
      "source": [
        "class stock:\n",
        "    def __init__(self, ticker, open, close, volume):\n",
        "        self.ticker = ticker\n",
        "        self.open = open\n",
        "        self.close = close\n",
        "        self.volume = volume\n",
        "        self.rate_return = float(close)/open*volume - 1\n",
        " \n",
        "    def update(self, open, close):\n",
        "        self.open = open\n",
        "        self.close = close\n",
        "        self.rate_return = float(self.close)/self.open - 1\n",
        " \n",
        "    def print_return(self):\n",
        "        print(self.rate_return)"
      ],
      "execution_count": 38,
      "outputs": []
    },
    {
      "cell_type": "code",
      "metadata": {
        "id": "8tIpNk93O2PU"
      },
      "source": [
        "apple = stock('AAPL', 50.69, 14.09, 2140)\n",
        "google = stock('GOOG', 98.7, 11.7, 616)"
      ],
      "execution_count": 40,
      "outputs": []
    },
    {
      "cell_type": "code",
      "metadata": {
        "id": "SsiIkmekO2PU",
        "colab": {
          "base_uri": "https://localhost:8080/"
        },
        "outputId": "b6ef7e7b-57c4-41a8-b184-1b1009effde8"
      },
      "source": [
        "apple.ticker\n",
        "google.print_return()\n",
        "google.update(912.8,913.4)\n",
        "google.print_return()"
      ],
      "execution_count": 41,
      "outputs": [
        {
          "output_type": "stream",
          "name": "stdout",
          "text": [
            "72.02127659574468\n",
            "0.0006573181419806673\n"
          ]
        }
      ]
    },
    {
      "cell_type": "code",
      "metadata": {
        "id": "rO4OLnqOO2PU",
        "colab": {
          "base_uri": "https://localhost:8080/",
          "height": 35
        },
        "outputId": "7748150b-a164-4007-c1a4-ff4eb1f27535"
      },
      "source": [
        "apple.ceo = 'Tim Cook'\n",
        "apple.ceo"
      ],
      "execution_count": 42,
      "outputs": [
        {
          "output_type": "execute_result",
          "data": {
            "application/vnd.google.colaboratory.intrinsic+json": {
              "type": "string"
            },
            "text/plain": [
              "'Tim Cook'"
            ]
          },
          "metadata": {},
          "execution_count": 42
        }
      ]
    },
    {
      "cell_type": "code",
      "metadata": {
        "id": "pPoz0LA8O2PU",
        "colab": {
          "base_uri": "https://localhost:8080/"
        },
        "outputId": "6a2d26fb-ec42-4d96-d589-04788e8f062b"
      },
      "source": [
        "dir(apple)"
      ],
      "execution_count": 43,
      "outputs": [
        {
          "output_type": "execute_result",
          "data": {
            "text/plain": [
              "['__class__',\n",
              " '__delattr__',\n",
              " '__dict__',\n",
              " '__dir__',\n",
              " '__doc__',\n",
              " '__eq__',\n",
              " '__format__',\n",
              " '__ge__',\n",
              " '__getattribute__',\n",
              " '__gt__',\n",
              " '__hash__',\n",
              " '__init__',\n",
              " '__init_subclass__',\n",
              " '__le__',\n",
              " '__lt__',\n",
              " '__module__',\n",
              " '__ne__',\n",
              " '__new__',\n",
              " '__reduce__',\n",
              " '__reduce_ex__',\n",
              " '__repr__',\n",
              " '__setattr__',\n",
              " '__sizeof__',\n",
              " '__str__',\n",
              " '__subclasshook__',\n",
              " '__weakref__',\n",
              " 'ceo',\n",
              " 'close',\n",
              " 'open',\n",
              " 'print_return',\n",
              " 'rate_return',\n",
              " 'ticker',\n",
              " 'update',\n",
              " 'volume']"
            ]
          },
          "metadata": {},
          "execution_count": 43
        }
      ]
    },
    {
      "cell_type": "markdown",
      "metadata": {
        "id": "Qpemj1UZd2aa"
      },
      "source": [
        "## Inheritance\n"
      ]
    },
    {
      "cell_type": "code",
      "metadata": {
        "id": "UELXnxomO2PV"
      },
      "source": [
        "class child(stock):\n",
        "    def __init__(self,name):\n",
        "        self.name = name"
      ],
      "execution_count": 45,
      "outputs": []
    },
    {
      "cell_type": "code",
      "metadata": {
        "id": "ffS2THZyO2PV",
        "colab": {
          "base_uri": "https://localhost:8080/"
        },
        "outputId": "590b539b-b3d6-4db4-8e6e-47a0d705e03a"
      },
      "source": [
        "aa = child('aa')\n",
        "print(aa.name)\n",
        "aa.update(1,659)\n",
        "print(aa.open)\n",
        "print(aa.close)\n",
        "print(aa.print_return())"
      ],
      "execution_count": 51,
      "outputs": [
        {
          "output_type": "stream",
          "name": "stdout",
          "text": [
            "aa\n",
            "1\n",
            "659\n",
            "658.0\n",
            "None\n"
          ]
        }
      ]
    }
  ]
}
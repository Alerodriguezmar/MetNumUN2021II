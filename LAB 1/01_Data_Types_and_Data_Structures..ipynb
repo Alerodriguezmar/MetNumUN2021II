{
  "nbformat": 4,
  "nbformat_minor": 0,
  "metadata": {
    "kernelspec": {
      "display_name": "Python 3",
      "language": "python",
      "name": "python3"
    },
    "language_info": {
      "codemirror_mode": {
        "name": "ipython",
        "version": 3
      },
      "file_extension": ".py",
      "mimetype": "text/x-python",
      "name": "python",
      "nbconvert_exporter": "python",
      "pygments_lexer": "ipython3",
      "version": "3.6.4"
    },
    "colab": {
      "name": "01_Data_Types_and_Data_Structures.ipynb",
      "provenance": [],
      "collapsed_sections": [
        "l2JqbusAV1Y2",
        "Jyb4GGIoWIHk"
      ]
    }
  },
  "cells": [
    {
      "cell_type": "markdown",
      "metadata": {
        "id": "eQzBbvyKQymx"
      },
      "source": [
        "\n",
        "# Basic Variable Types"
      ]
    },
    {
      "cell_type": "code",
      "metadata": {
        "id": "N5t-UrcfOqid",
        "colab": {
          "base_uri": "https://localhost:8080/"
        },
        "outputId": "05712ec5-40bc-407a-8d61-ac2bce85dd12"
      },
      "source": [
        "my_string1 = 'Metodos'\n",
        "my_string2 = \"Numéricos\"\n",
        "print(my_string1 + ' ' + my_string2)"
      ],
      "execution_count": 10,
      "outputs": [
        {
          "output_type": "stream",
          "name": "stdout",
          "text": [
            "Metodos Numéricos\n"
          ]
        }
      ]
    },
    {
      "cell_type": "code",
      "metadata": {
        "id": "pNjuz3toOqif",
        "colab": {
          "base_uri": "https://localhost:8080/"
        },
        "outputId": "d3611142-8f4a-448f-cb97-17d69eae3b19"
      },
      "source": [
        "my_int = 30\n",
        "print(my_int)\n",
        "print(type(my_int))"
      ],
      "execution_count": 11,
      "outputs": [
        {
          "output_type": "stream",
          "name": "stdout",
          "text": [
            "30\n",
            "<class 'int'>\n"
          ]
        }
      ]
    },
    {
      "cell_type": "code",
      "metadata": {
        "id": "zPwGb20FOqif",
        "colab": {
          "base_uri": "https://localhost:8080/"
        },
        "outputId": "5d8b675c-45d1-46be-8fdd-5243fd64ba27"
      },
      "source": [
        "my_string = \"123\"\n",
        "print(type(my_string))\n",
        "my_int = int(my_string)\n",
        "print(type(my_int))"
      ],
      "execution_count": 12,
      "outputs": [
        {
          "output_type": "stream",
          "name": "stdout",
          "text": [
            "<class 'str'>\n",
            "<class 'int'>\n"
          ]
        }
      ]
    },
    {
      "cell_type": "code",
      "metadata": {
        "id": "otCzKKW9Oqig",
        "colab": {
          "base_uri": "https://localhost:8080/"
        },
        "outputId": "04ab1d60-bf53-4847-e50b-6629404d2071"
      },
      "source": [
        "my_string = \"123\"\n",
        "my_float = float(my_string)\n",
        "print(type(my_float))"
      ],
      "execution_count": 13,
      "outputs": [
        {
          "output_type": "stream",
          "name": "stdout",
          "text": [
            "<class 'float'>\n"
          ]
        }
      ]
    },
    {
      "cell_type": "code",
      "metadata": {
        "id": "wwLw5VthOqig",
        "colab": {
          "base_uri": "https://localhost:8080/"
        },
        "outputId": "962d283a-3dd2-4a32-8b77-2663a3a7fea5"
      },
      "source": [
        "my_bool = True\n",
        "print(my_bool)\n",
        "print(type(my_bool))"
      ],
      "execution_count": 15,
      "outputs": [
        {
          "output_type": "stream",
          "name": "stdout",
          "text": [
            "True\n",
            "<class 'bool'>\n"
          ]
        }
      ]
    },
    {
      "cell_type": "code",
      "metadata": {
        "id": "DMa6pDl5Oqig",
        "colab": {
          "base_uri": "https://localhost:8080/"
        },
        "outputId": "c60b84f7-d6d9-4ac6-e72a-ed29a22e4c20"
      },
      "source": [
        "print(\"Addition \", 9+5)\n",
        "print(\"Subtraction \", 10-3)\n",
        "print(\"Multiplication \", 5*8)\n",
        "print(\"Division \", 10/5)\n",
        "print('exponent', 2**10)"
      ],
      "execution_count": 19,
      "outputs": [
        {
          "output_type": "stream",
          "name": "stdout",
          "text": [
            "Addition  14\n",
            "Subtraction  7\n",
            "Multiplication  40\n",
            "Division  2.0\n",
            "exponent 1024\n"
          ]
        }
      ]
    },
    {
      "cell_type": "markdown",
      "metadata": {
        "id": "1Xc9G9_sS2ju"
      },
      "source": [
        "# Basic Math Operations\n"
      ]
    },
    {
      "cell_type": "code",
      "metadata": {
        "id": "KE9gUryAOqig",
        "colab": {
          "base_uri": "https://localhost:8080/"
        },
        "outputId": "33b7aa7b-1260-4816-a93b-3485c0aeab0c"
      },
      "source": [
        "print(100/33)\n",
        "print(100.0/33)"
      ],
      "execution_count": 21,
      "outputs": [
        {
          "output_type": "stream",
          "name": "stdout",
          "text": [
            "3.0303030303030303\n",
            "3.0303030303030303\n"
          ]
        }
      ]
    },
    {
      "cell_type": "markdown",
      "metadata": {
        "id": "AN5Oa3DoS_Nf"
      },
      "source": [
        "# Data Collections\n",
        "\n",
        "## List"
      ]
    },
    {
      "cell_type": "code",
      "metadata": {
        "id": "-tQdNqCvOqig",
        "colab": {
          "base_uri": "https://localhost:8080/"
        },
        "outputId": "a4271ff4-46bb-4987-a6f9-9d336ba74fbf"
      },
      "source": [
        "my_list = [9, 8,7,'Primero','Segundo']\n",
        "print(my_list)"
      ],
      "execution_count": 22,
      "outputs": [
        {
          "output_type": "stream",
          "name": "stdout",
          "text": [
            "[9, 8, 7, 'Primero', 'Segundo']\n"
          ]
        }
      ]
    },
    {
      "cell_type": "code",
      "metadata": {
        "id": "QhuVhRR5Oqih",
        "colab": {
          "base_uri": "https://localhost:8080/"
        },
        "outputId": "4e2c8d40-e2f3-4ae4-8e51-0c541d819311"
      },
      "source": [
        "my_list = [9, 8,7,'Primero','Segundo','Tercero']\n",
        "print(len(my_list))\n",
        "print(my_list[2])\n",
        "print(my_list[len(my_list) - 6])"
      ],
      "execution_count": 30,
      "outputs": [
        {
          "output_type": "stream",
          "name": "stdout",
          "text": [
            "6\n",
            "7\n",
            "9\n"
          ]
        }
      ]
    },
    {
      "cell_type": "code",
      "metadata": {
        "id": "NQBNLjAvOqih",
        "colab": {
          "base_uri": "https://localhost:8080/"
        },
        "outputId": "49de941f-3aa2-4034-9823-d8933cc4f932"
      },
      "source": [
        "my_list = ['Quinto','Sexto',7,8,9,10,'Cuarto']\n",
        "my_list[2] = 'go'\n",
        "print(my_list)"
      ],
      "execution_count": 31,
      "outputs": [
        {
          "output_type": "stream",
          "name": "stdout",
          "text": [
            "['Quinto', 'Sexto', 'go', 8, 9, 10, 'Cuarto']\n"
          ]
        }
      ]
    },
    {
      "cell_type": "code",
      "metadata": {
        "id": "keNX2RbtOqii",
        "colab": {
          "base_uri": "https://localhost:8080/"
        },
        "outputId": "c52a0780-8226-40b9-dc05-8fe084ba12f7"
      },
      "source": [
        "my_list = ['Quinto','Sexto',7,8,9,10,'Cuarto']\n",
        "print(my_list[2:5])"
      ],
      "execution_count": 34,
      "outputs": [
        {
          "output_type": "stream",
          "name": "stdout",
          "text": [
            "[7, 8, 9]\n"
          ]
        }
      ]
    },
    {
      "cell_type": "code",
      "metadata": {
        "id": "0-76sLfkOqii",
        "colab": {
          "base_uri": "https://localhost:8080/"
        },
        "outputId": "dbdb5de8-140c-4fc3-cb86-448951385bb3"
      },
      "source": [
        "print(my_list[4:])"
      ],
      "execution_count": 37,
      "outputs": [
        {
          "output_type": "stream",
          "name": "stdout",
          "text": [
            "[9, 10, 'Cuarto']\n"
          ]
        }
      ]
    },
    {
      "cell_type": "code",
      "metadata": {
        "id": "5NWr75L9Oqii",
        "colab": {
          "base_uri": "https://localhost:8080/"
        },
        "outputId": "eaa4ce54-8988-43ca-d62b-232ac5d0eb0d"
      },
      "source": [
        "print(my_list[:3])"
      ],
      "execution_count": 38,
      "outputs": [
        {
          "output_type": "stream",
          "name": "stdout",
          "text": [
            "['Quinto', 'Sexto', 7]\n"
          ]
        }
      ]
    },
    {
      "cell_type": "code",
      "metadata": {
        "colab": {
          "base_uri": "https://localhost:8080/"
        },
        "id": "pHmgTPElTo19",
        "outputId": "d39d1eb2-99ea-46f1-d582-0af57261750a"
      },
      "source": [
        "my_list = ['Metodos', 'Numericos']\n",
        "my_list.append('Grupo 1 - 2021-II')\n",
        "print(my_list)\n",
        "\n"
      ],
      "execution_count": 39,
      "outputs": [
        {
          "output_type": "stream",
          "name": "stdout",
          "text": [
            "['Metodos', 'Numericos', 'Grupo 1 - 2021-II']\n"
          ]
        }
      ]
    },
    {
      "cell_type": "code",
      "metadata": {
        "colab": {
          "base_uri": "https://localhost:8080/"
        },
        "id": "4C4U1Yf0Tr8l",
        "outputId": "9502db8a-e714-43e6-8be2-de46094a6e87"
      },
      "source": [
        "my_list.remove('Grupo 1 - 2021-II')\n",
        "print(my_list)"
      ],
      "execution_count": 41,
      "outputs": [
        {
          "output_type": "stream",
          "name": "stdout",
          "text": [
            "['Metodos', 'Numericos']\n"
          ]
        }
      ]
    },
    {
      "cell_type": "markdown",
      "metadata": {
        "id": "11W1gG-cVmOU"
      },
      "source": [
        "## Tuple"
      ]
    },
    {
      "cell_type": "code",
      "metadata": {
        "collapsed": true,
        "id": "vPmn6BAaOqii"
      },
      "source": [
        "my_tuple = ('Metodos','Numericos')"
      ],
      "execution_count": 42,
      "outputs": []
    },
    {
      "cell_type": "code",
      "metadata": {
        "id": "8P-ddO0sOqii",
        "colab": {
          "base_uri": "https://localhost:8080/"
        },
        "outputId": "8e768e71-db4c-4e99-a753-9960b05127af"
      },
      "source": [
        "my_tuple = ('Metodos','Numericos')\n",
        "print(my_tuple[1:])"
      ],
      "execution_count": 44,
      "outputs": [
        {
          "output_type": "stream",
          "name": "stdout",
          "text": [
            "('Numericos',)\n"
          ]
        }
      ]
    },
    {
      "cell_type": "markdown",
      "metadata": {
        "id": "l2JqbusAV1Y2"
      },
      "source": [
        "## Set"
      ]
    },
    {
      "cell_type": "code",
      "metadata": {
        "id": "Plau8r-UOqij",
        "colab": {
          "base_uri": "https://localhost:8080/"
        },
        "outputId": "47dfb24d-c743-4d8d-fbf7-e77ad792d020"
      },
      "source": [
        "stock_list = ['ABC','CDE','EFG','HIJ','JMN','NMO','OPQ','QER']\n",
        "stock_set = set(stock_list)\n",
        "print(stock_set)"
      ],
      "execution_count": 45,
      "outputs": [
        {
          "output_type": "stream",
          "name": "stdout",
          "text": [
            "{'ABC', 'EFG', 'NMO', 'HIJ', 'OPQ', 'QER', 'CDE', 'JMN'}\n"
          ]
        }
      ]
    },
    {
      "cell_type": "markdown",
      "metadata": {
        "id": "Jyb4GGIoWIHk"
      },
      "source": [
        "##Dictionary"
      ]
    },
    {
      "cell_type": "code",
      "metadata": {
        "collapsed": true,
        "id": "36mTe5BaOqij"
      },
      "source": [
        "my_dic = {'INITIAL':'QWE', 'MEDIUM':'ASD', 'FINALLY':'ZXC'}"
      ],
      "execution_count": 46,
      "outputs": []
    },
    {
      "cell_type": "code",
      "metadata": {
        "id": "KUfdVf43Oqij",
        "colab": {
          "base_uri": "https://localhost:8080/"
        },
        "outputId": "d481ae28-2041-4c55-ef92-7e050066e1cb"
      },
      "source": [
        "print(my_dic['MEDIUM'])"
      ],
      "execution_count": 47,
      "outputs": [
        {
          "output_type": "stream",
          "name": "stdout",
          "text": [
            "ASD\n"
          ]
        }
      ]
    },
    {
      "cell_type": "code",
      "metadata": {
        "id": "IrTZdq9FOqij",
        "colab": {
          "base_uri": "https://localhost:8080/"
        },
        "outputId": "15ecdaa4-8b94-4d6b-f77b-5af27b3bcb31"
      },
      "source": [
        "my_dic['MEDIUM'] = 'LKJ'\n",
        "print(my_dic['MEDIUM'])"
      ],
      "execution_count": 48,
      "outputs": [
        {
          "output_type": "stream",
          "name": "stdout",
          "text": [
            "LKJ\n"
          ]
        }
      ]
    },
    {
      "cell_type": "code",
      "metadata": {
        "id": "lupRHf1_Oqij",
        "colab": {
          "base_uri": "https://localhost:8080/"
        },
        "outputId": "98a4d5bb-1ede-4246-e632-2816c166c134"
      },
      "source": [
        "print(my_dic.keys())"
      ],
      "execution_count": 49,
      "outputs": [
        {
          "output_type": "stream",
          "name": "stdout",
          "text": [
            "dict_keys(['INITIAL', 'MEDIUM', 'FINALLY'])\n"
          ]
        }
      ]
    },
    {
      "cell_type": "markdown",
      "metadata": {
        "id": "kSGzgNb2Womz"
      },
      "source": [
        "# Common String Operations"
      ]
    },
    {
      "cell_type": "code",
      "metadata": {
        "id": "xPojDnm9Oqik",
        "colab": {
          "base_uri": "https://localhost:8080/"
        },
        "outputId": "c753f439-5357-4391-dd28-7c4b29907fea"
      },
      "source": [
        "my_str = 'Welcome to Numeric Methods'\n",
        "print(my_str[8:])"
      ],
      "execution_count": 50,
      "outputs": [
        {
          "output_type": "stream",
          "name": "stdout",
          "text": [
            "to Numeric Methods\n"
          ]
        }
      ]
    },
    {
      "cell_type": "code",
      "metadata": {
        "id": "u9deZq1SOqik",
        "colab": {
          "base_uri": "https://localhost:8080/"
        },
        "outputId": "ca30ed62-ded1-4024-e42b-65bd69af84a1"
      },
      "source": [
        "print('The narrator introduces himself as a man who learned when he was a child that adults lack imagination and understanding'.count('a'))\n",
        "print('The Little Prince, French Le Petit Prince, fable and modern classic by French aviator and writer Antoine de Saint-Exupéry'.find('p'))\n",
        "print('The Little Prince draws unflattering portraits of grown-ups as being hopelessly narrow-minded.'.replace('o','i'))"
      ],
      "execution_count": 69,
      "outputs": [
        {
          "output_type": "stream",
          "name": "stdout",
          "text": [
            "15\n",
            "117\n",
            "The Little Prince draws unflattering pirtraits if griwn-ups as being hipelessly narriw-minded.\n"
          ]
        }
      ]
    },
    {
      "cell_type": "code",
      "metadata": {
        "id": "hbIaFLFHOqik",
        "colab": {
          "base_uri": "https://localhost:8080/"
        },
        "outputId": "01089957-6caa-4969-bb80-98905a820fde"
      },
      "source": [
        "Time = '2021-10-18 12:43:00'\n",
        "splited_list = Time.split(' ')\n",
        "date = splited_list[0]\n",
        "time = splited_list[1]\n",
        "print(date, time)\n",
        "hour = time.split(':')[0]\n",
        "print(hour)"
      ],
      "execution_count": 72,
      "outputs": [
        {
          "output_type": "stream",
          "name": "stdout",
          "text": [
            "2021-10-18 12:43:00\n",
            "12\n"
          ]
        }
      ]
    },
    {
      "cell_type": "code",
      "metadata": {
        "id": "-E_rIvv6Oqik",
        "colab": {
          "base_uri": "https://localhost:8080/"
        },
        "outputId": "550f25dd-e246-489f-99ec-78aae1a4f1a9"
      },
      "source": [
        "my_time = 'Hour: {}, Minute:{}'.format('11','33')\n",
        "print(my_time)"
      ],
      "execution_count": 73,
      "outputs": [
        {
          "output_type": "stream",
          "name": "stdout",
          "text": [
            "Hour: 11, Minute:33\n"
          ]
        }
      ]
    },
    {
      "cell_type": "code",
      "metadata": {
        "id": "4rZ4rkD2Oqik",
        "colab": {
          "base_uri": "https://localhost:8080/"
        },
        "outputId": "9eaf3b80-7b97-44f1-9163-67a42f1ac955"
      },
      "source": [
        "print('the pi number is %f'%3.14)\n",
        "print('%s to %s'%('Welcome','Numeric Methods'))"
      ],
      "execution_count": 74,
      "outputs": [
        {
          "output_type": "stream",
          "name": "stdout",
          "text": [
            "the pi number is 3.140000\n",
            "Welcome to Numeric Methods\n"
          ]
        }
      ]
    }
  ]
}
{
  "nbformat": 4,
  "nbformat_minor": 0,
  "metadata": {
    "colab": {
      "name": "PLUSympyGroup6.ipynb",
      "provenance": [],
      "collapsed_sections": []
    },
    "kernelspec": {
      "name": "python3",
      "display_name": "Python 3"
    },
    "language_info": {
      "name": "python"
    }
  },
  "cells": [
    {
      "cell_type": "markdown",
      "metadata": {
        "id": "view-in-github"
      },
      "source": [
        "<a href=\"https://colab.research.google.com/github/jubedoyag/MetNumUN2021II/blob/main/Lab13/PLUSympyGroup4.ipynb\" target=\"_parent\"><img src=\"https://colab.research.google.com/assets/colab-badge.svg\" alt=\"Open In Colab\"/></a>"
      ]
    },
    {
      "cell_type": "markdown",
      "source": [
        "# PLU SymPy"
      ],
      "metadata": {
        "id": "2b0X1rlVghnD"
      }
    },
    {
      "cell_type": "code",
      "source": [
        "from sympy import Matrix,init_printing, eye, zeros\n",
        "init_printing()"
      ],
      "metadata": {
        "id": "5YpJlcuLtIBn"
      },
      "execution_count": 81,
      "outputs": []
    },
    {
      "cell_type": "code",
      "source": [
        "import sympy \n",
        "import numpy as np\n",
        "def PLU(A,k):\n",
        "\n",
        "  N = A.shape[0]\n",
        "  u = A.copy()\n",
        "  L = sympy.eye(N)\n",
        "  P = sympy.eye(N)\n",
        "  \n",
        "  for j in range(k):\n",
        "      lam = sympy.eye(N)\n",
        "      perm = sympy.eye(N)\n",
        "      row_ind = j\n",
        "      max_value = u[row_ind, j]\n",
        "      for i in range(j, N, 1):\n",
        "        if abs(u[i, j]) > abs(max_value): \n",
        "          max_value = u[i, j]\n",
        "          row_ind = i\n",
        "      swap_row = perm[row_ind,:].copy()\n",
        "      perm[row_ind,:] = perm[j,:]\n",
        "      perm[j,:] = swap_row\n",
        "\n",
        "      u = perm @ u\n",
        "      gamma = u[j+1:, j] / u[j, j]\n",
        "      lam[j+1:, j] = -gamma\n",
        "      u = lam @ u\n",
        "      P = perm @ P\n",
        "      L = L @ perm @ lam \n",
        "  return P,P@L,u"
      ],
      "metadata": {
        "id": "1u2PJf3otKcc"
      },
      "execution_count": 82,
      "outputs": []
    },
    {
      "cell_type": "code",
      "source": [
        "A = Matrix([[-2,2,-1], [6,-6,7], [3,-8,4]])\n",
        "A"
      ],
      "metadata": {
        "colab": {
          "base_uri": "https://localhost:8080/",
          "height": 78
        },
        "id": "7HLfQMyxz4h9",
        "outputId": "a891f505-00eb-49fe-b176-a2566d2aee85"
      },
      "execution_count": 83,
      "outputs": [
        {
          "output_type": "execute_result",
          "data": {
            "text/latex": "$\\displaystyle \\left[\\begin{matrix}-2 & 2 & -1\\\\6 & -6 & 7\\\\3 & -8 & 4\\end{matrix}\\right]$",
            "text/plain": [
              "⎡-2  2   -1⎤\n",
              "⎢          ⎥\n",
              "⎢6   -6  7 ⎥\n",
              "⎢          ⎥\n",
              "⎣3   -8  4 ⎦"
            ]
          },
          "metadata": {},
          "execution_count": 83
        }
      ]
    },
    {
      "cell_type": "code",
      "source": [
        "P,L,U = PLU(A,0)"
      ],
      "metadata": {
        "id": "6leWL6-jtRkF"
      },
      "execution_count": 84,
      "outputs": []
    },
    {
      "cell_type": "code",
      "source": [
        "P"
      ],
      "metadata": {
        "colab": {
          "base_uri": "https://localhost:8080/",
          "height": 78
        },
        "id": "v2_Euu2Dy6rt",
        "outputId": "6671ee90-9a74-4a51-a34e-2baaaf20bb4e"
      },
      "execution_count": 85,
      "outputs": [
        {
          "output_type": "execute_result",
          "data": {
            "text/latex": "$\\displaystyle \\left[\\begin{matrix}1 & 0 & 0\\\\0 & 1 & 0\\\\0 & 0 & 1\\end{matrix}\\right]$",
            "text/plain": [
              "⎡1  0  0⎤\n",
              "⎢       ⎥\n",
              "⎢0  1  0⎥\n",
              "⎢       ⎥\n",
              "⎣0  0  1⎦"
            ]
          },
          "metadata": {},
          "execution_count": 85
        }
      ]
    },
    {
      "cell_type": "code",
      "source": [
        "L"
      ],
      "metadata": {
        "colab": {
          "base_uri": "https://localhost:8080/",
          "height": 78
        },
        "id": "wUIt2RTTy3qG",
        "outputId": "bb3699fe-be0a-4d8b-dcf6-6631e62585bb"
      },
      "execution_count": 86,
      "outputs": [
        {
          "output_type": "execute_result",
          "data": {
            "text/latex": "$\\displaystyle \\left[\\begin{matrix}1 & 0 & 0\\\\0 & 1 & 0\\\\0 & 0 & 1\\end{matrix}\\right]$",
            "text/plain": [
              "⎡1  0  0⎤\n",
              "⎢       ⎥\n",
              "⎢0  1  0⎥\n",
              "⎢       ⎥\n",
              "⎣0  0  1⎦"
            ]
          },
          "metadata": {},
          "execution_count": 86
        }
      ]
    },
    {
      "cell_type": "code",
      "source": [
        "U"
      ],
      "metadata": {
        "colab": {
          "base_uri": "https://localhost:8080/",
          "height": 78
        },
        "id": "WU6c9cVoy4md",
        "outputId": "76d0c1a2-c1b3-4b4b-ec03-8e1927acc6d0"
      },
      "execution_count": 87,
      "outputs": [
        {
          "output_type": "execute_result",
          "data": {
            "text/latex": "$\\displaystyle \\left[\\begin{matrix}-2 & 2 & -1\\\\6 & -6 & 7\\\\3 & -8 & 4\\end{matrix}\\right]$",
            "text/plain": [
              "⎡-2  2   -1⎤\n",
              "⎢          ⎥\n",
              "⎢6   -6  7 ⎥\n",
              "⎢          ⎥\n",
              "⎣3   -8  4 ⎦"
            ]
          },
          "metadata": {},
          "execution_count": 87
        }
      ]
    },
    {
      "cell_type": "code",
      "source": [
        "P,L,U = PLU(A,1)"
      ],
      "metadata": {
        "id": "VwkeklsnzXm9"
      },
      "execution_count": 88,
      "outputs": []
    },
    {
      "cell_type": "code",
      "source": [
        "P"
      ],
      "metadata": {
        "colab": {
          "base_uri": "https://localhost:8080/",
          "height": 78
        },
        "id": "mmhvYJg6zZGl",
        "outputId": "d84a24c7-c18b-4f63-d7f6-730b15d78239"
      },
      "execution_count": 89,
      "outputs": [
        {
          "output_type": "execute_result",
          "data": {
            "text/latex": "$\\displaystyle \\left[\\begin{matrix}0 & 1 & 0\\\\1 & 0 & 0\\\\0 & 0 & 1\\end{matrix}\\right]$",
            "text/plain": [
              "⎡0  1  0⎤\n",
              "⎢       ⎥\n",
              "⎢1  0  0⎥\n",
              "⎢       ⎥\n",
              "⎣0  0  1⎦"
            ]
          },
          "metadata": {},
          "execution_count": 89
        }
      ]
    },
    {
      "cell_type": "code",
      "source": [
        "L"
      ],
      "metadata": {
        "colab": {
          "base_uri": "https://localhost:8080/",
          "height": 78
        },
        "id": "GYVPxQcfzZud",
        "outputId": "3d347b60-9437-49a7-a022-7704dd23fe27"
      },
      "execution_count": 90,
      "outputs": [
        {
          "output_type": "execute_result",
          "data": {
            "text/latex": "$\\displaystyle \\left[\\begin{matrix}1 & 0 & 0\\\\\\frac{1}{3} & 1 & 0\\\\- \\frac{1}{2} & 0 & 1\\end{matrix}\\right]$",
            "text/plain": [
              "⎡ 1    0  0⎤\n",
              "⎢          ⎥\n",
              "⎢1/3   1  0⎥\n",
              "⎢          ⎥\n",
              "⎣-1/2  0  1⎦"
            ]
          },
          "metadata": {},
          "execution_count": 90
        }
      ]
    },
    {
      "cell_type": "code",
      "source": [
        "U"
      ],
      "metadata": {
        "colab": {
          "base_uri": "https://localhost:8080/",
          "height": 78
        },
        "id": "Ii_G1E-fzauc",
        "outputId": "5dd54789-799c-48cf-8a0e-70855a3404ba"
      },
      "execution_count": 91,
      "outputs": [
        {
          "output_type": "execute_result",
          "data": {
            "text/latex": "$\\displaystyle \\left[\\begin{matrix}6 & -6 & 7\\\\0 & 0 & \\frac{4}{3}\\\\0 & -5 & \\frac{1}{2}\\end{matrix}\\right]$",
            "text/plain": [
              "⎡6  -6   7 ⎤\n",
              "⎢          ⎥\n",
              "⎢0  0   4/3⎥\n",
              "⎢          ⎥\n",
              "⎣0  -5  1/2⎦"
            ]
          },
          "metadata": {},
          "execution_count": 91
        }
      ]
    },
    {
      "cell_type": "code",
      "source": [
        "P,L,U = PLU(A,2)"
      ],
      "metadata": {
        "id": "yxpCf2HCzkL-"
      },
      "execution_count": 92,
      "outputs": []
    },
    {
      "cell_type": "code",
      "source": [
        "P"
      ],
      "metadata": {
        "colab": {
          "base_uri": "https://localhost:8080/",
          "height": 78
        },
        "id": "mP89CHIDznos",
        "outputId": "7ad1f9db-7154-412d-b0af-3b469c502f5c"
      },
      "execution_count": 93,
      "outputs": [
        {
          "output_type": "execute_result",
          "data": {
            "text/latex": "$\\displaystyle \\left[\\begin{matrix}0 & 1 & 0\\\\0 & 0 & 1\\\\1 & 0 & 0\\end{matrix}\\right]$",
            "text/plain": [
              "⎡0  1  0⎤\n",
              "⎢       ⎥\n",
              "⎢0  0  1⎥\n",
              "⎢       ⎥\n",
              "⎣1  0  0⎦"
            ]
          },
          "metadata": {},
          "execution_count": 93
        }
      ]
    },
    {
      "cell_type": "code",
      "source": [
        "L"
      ],
      "metadata": {
        "colab": {
          "base_uri": "https://localhost:8080/",
          "height": 78
        },
        "id": "bZvdCOMgzoh2",
        "outputId": "ed8082c5-9b65-4478-d8cd-3a9a53fddd2c"
      },
      "execution_count": 94,
      "outputs": [
        {
          "output_type": "execute_result",
          "data": {
            "text/latex": "$\\displaystyle \\left[\\begin{matrix}1 & 0 & 0\\\\- \\frac{1}{2} & 1 & 0\\\\\\frac{1}{3} & 0 & 1\\end{matrix}\\right]$",
            "text/plain": [
              "⎡ 1    0  0⎤\n",
              "⎢          ⎥\n",
              "⎢-1/2  1  0⎥\n",
              "⎢          ⎥\n",
              "⎣1/3   0  1⎦"
            ]
          },
          "metadata": {},
          "execution_count": 94
        }
      ]
    },
    {
      "cell_type": "code",
      "source": [
        "U"
      ],
      "metadata": {
        "colab": {
          "base_uri": "https://localhost:8080/",
          "height": 78
        },
        "id": "O64hZyl7zqE8",
        "outputId": "f14fc562-0ced-4d3d-83ec-22b1c2bcd88a"
      },
      "execution_count": 95,
      "outputs": [
        {
          "output_type": "execute_result",
          "data": {
            "text/latex": "$\\displaystyle \\left[\\begin{matrix}6 & -6 & 7\\\\0 & -5 & \\frac{1}{2}\\\\0 & 0 & \\frac{4}{3}\\end{matrix}\\right]$",
            "text/plain": [
              "⎡6  -6   7 ⎤\n",
              "⎢          ⎥\n",
              "⎢0  -5  1/2⎥\n",
              "⎢          ⎥\n",
              "⎣0  0   4/3⎦"
            ]
          },
          "metadata": {},
          "execution_count": 95
        }
      ]
    },
    {
      "cell_type": "code",
      "source": [
        "from sympy import  N\n",
        "N(U)"
      ],
      "metadata": {
        "colab": {
          "base_uri": "https://localhost:8080/",
          "height": 78
        },
        "id": "lEWtqQq4z-_E",
        "outputId": "0487302c-3841-4506-a999-2a91da7a7153"
      },
      "execution_count": 96,
      "outputs": [
        {
          "output_type": "execute_result",
          "data": {
            "text/latex": "$\\displaystyle \\left[\\begin{matrix}6.0 & -6.0 & 7.0\\\\0 & -5.0 & 0.5\\\\0 & 0 & 1.33333333333333\\end{matrix}\\right]$",
            "text/plain": [
              "⎡6.0  -6.0        7.0       ⎤\n",
              "⎢                           ⎥\n",
              "⎢ 0   -5.0        0.5       ⎥\n",
              "⎢                           ⎥\n",
              "⎣ 0    0    1.33333333333333⎦"
            ]
          },
          "metadata": {},
          "execution_count": 96
        }
      ]
    },
    {
      "cell_type": "code",
      "source": [
        "# Now, generate a full rank matrix and test the naive implementation\n",
        "\n",
        "import sympy \n",
        "import numpy as np\n",
        "\n",
        "N = 6\n",
        "A = sympy.zeros(N)\n",
        "for i in range(N):\n",
        "    for j in range(N):\n",
        "        A[i, j] = 2 + sympy.Rational(1,i*j+1)\n",
        "\n",
        "A"
      ],
      "metadata": {
        "colab": {
          "base_uri": "https://localhost:8080/",
          "height": 139
        },
        "id": "wqtMmRTM0q-l",
        "outputId": "58e14972-848c-4aaa-84ef-42322c81bcd1"
      },
      "execution_count": 97,
      "outputs": [
        {
          "output_type": "execute_result",
          "data": {
            "text/latex": "$\\displaystyle \\left[\\begin{matrix}3 & 3 & 3 & 3 & 3 & 3\\\\3 & \\frac{5}{2} & \\frac{7}{3} & \\frac{9}{4} & \\frac{11}{5} & \\frac{13}{6}\\\\3 & \\frac{7}{3} & \\frac{11}{5} & \\frac{15}{7} & \\frac{19}{9} & \\frac{23}{11}\\\\3 & \\frac{9}{4} & \\frac{15}{7} & \\frac{21}{10} & \\frac{27}{13} & \\frac{33}{16}\\\\3 & \\frac{11}{5} & \\frac{19}{9} & \\frac{27}{13} & \\frac{35}{17} & \\frac{43}{21}\\\\3 & \\frac{13}{6} & \\frac{23}{11} & \\frac{33}{16} & \\frac{43}{21} & \\frac{53}{26}\\end{matrix}\\right]$",
            "text/plain": [
              "⎡3   3     3     3     3     3  ⎤\n",
              "⎢                               ⎥\n",
              "⎢3  5/2   7/3   9/4   11/5  13/6⎥\n",
              "⎢                               ⎥\n",
              "⎢                            23 ⎥\n",
              "⎢3  7/3   11/5  15/7  19/9   ── ⎥\n",
              "⎢                            11 ⎥\n",
              "⎢                               ⎥\n",
              "⎢                21    27    33 ⎥\n",
              "⎢3  9/4   15/7   ──    ──    ── ⎥\n",
              "⎢                10    13    16 ⎥\n",
              "⎢                               ⎥\n",
              "⎢                27    35    43 ⎥\n",
              "⎢3  11/5  19/9   ──    ──    ── ⎥\n",
              "⎢                13    17    21 ⎥\n",
              "⎢                               ⎥\n",
              "⎢          23    33    43    53 ⎥\n",
              "⎢3  13/6   ──    ──    ──    ── ⎥\n",
              "⎣          11    16    21    26 ⎦"
            ]
          },
          "metadata": {},
          "execution_count": 97
        }
      ]
    },
    {
      "cell_type": "code",
      "source": [
        "np.array(A).astype(np.float64)"
      ],
      "metadata": {
        "colab": {
          "base_uri": "https://localhost:8080/"
        },
        "id": "ZvYZLTuV0wC9",
        "outputId": "0b751152-10ac-4644-d5ca-bfd422993372"
      },
      "execution_count": 98,
      "outputs": [
        {
          "output_type": "execute_result",
          "data": {
            "text/plain": [
              "array([[3.        , 3.        , 3.        , 3.        , 3.        ,\n",
              "        3.        ],\n",
              "       [3.        , 2.5       , 2.33333333, 2.25      , 2.2       ,\n",
              "        2.16666667],\n",
              "       [3.        , 2.33333333, 2.2       , 2.14285714, 2.11111111,\n",
              "        2.09090909],\n",
              "       [3.        , 2.25      , 2.14285714, 2.1       , 2.07692308,\n",
              "        2.0625    ],\n",
              "       [3.        , 2.2       , 2.11111111, 2.07692308, 2.05882353,\n",
              "        2.04761905],\n",
              "       [3.        , 2.16666667, 2.09090909, 2.0625    , 2.04761905,\n",
              "        2.03846154]])"
            ]
          },
          "metadata": {},
          "execution_count": 98
        }
      ]
    },
    {
      "cell_type": "code",
      "source": [
        "np.linalg.matrix_rank(np.array(A).astype(np.float64))"
      ],
      "metadata": {
        "colab": {
          "base_uri": "https://localhost:8080/"
        },
        "id": "xz7BbxaS3KHG",
        "outputId": "2f9e3b3d-5058-416d-a5e2-392ba7c109cb"
      },
      "execution_count": 99,
      "outputs": [
        {
          "output_type": "execute_result",
          "data": {
            "text/plain": [
              "6"
            ]
          },
          "metadata": {},
          "execution_count": 99
        }
      ]
    },
    {
      "cell_type": "code",
      "source": [
        "A[1, 1] = 3"
      ],
      "metadata": {
        "id": "hXXhpoCQ3WwU"
      },
      "execution_count": 100,
      "outputs": []
    },
    {
      "cell_type": "code",
      "source": [
        "A"
      ],
      "metadata": {
        "colab": {
          "base_uri": "https://localhost:8080/",
          "height": 139
        },
        "id": "5TGp8_iB3dmd",
        "outputId": "293ae525-a4a3-4d4b-a359-59c9373aa47e"
      },
      "execution_count": 101,
      "outputs": [
        {
          "output_type": "execute_result",
          "data": {
            "text/latex": "$\\displaystyle \\left[\\begin{matrix}3 & 3 & 3 & 3 & 3 & 3\\\\3 & 3 & \\frac{7}{3} & \\frac{9}{4} & \\frac{11}{5} & \\frac{13}{6}\\\\3 & \\frac{7}{3} & \\frac{11}{5} & \\frac{15}{7} & \\frac{19}{9} & \\frac{23}{11}\\\\3 & \\frac{9}{4} & \\frac{15}{7} & \\frac{21}{10} & \\frac{27}{13} & \\frac{33}{16}\\\\3 & \\frac{11}{5} & \\frac{19}{9} & \\frac{27}{13} & \\frac{35}{17} & \\frac{43}{21}\\\\3 & \\frac{13}{6} & \\frac{23}{11} & \\frac{33}{16} & \\frac{43}{21} & \\frac{53}{26}\\end{matrix}\\right]$",
            "text/plain": [
              "⎡3   3     3     3     3     3  ⎤\n",
              "⎢                               ⎥\n",
              "⎢3   3    7/3   9/4   11/5  13/6⎥\n",
              "⎢                               ⎥\n",
              "⎢                            23 ⎥\n",
              "⎢3  7/3   11/5  15/7  19/9   ── ⎥\n",
              "⎢                            11 ⎥\n",
              "⎢                               ⎥\n",
              "⎢                21    27    33 ⎥\n",
              "⎢3  9/4   15/7   ──    ──    ── ⎥\n",
              "⎢                10    13    16 ⎥\n",
              "⎢                               ⎥\n",
              "⎢                27    35    43 ⎥\n",
              "⎢3  11/5  19/9   ──    ──    ── ⎥\n",
              "⎢                13    17    21 ⎥\n",
              "⎢                               ⎥\n",
              "⎢          23    33    43    53 ⎥\n",
              "⎢3  13/6   ──    ──    ──    ── ⎥\n",
              "⎣          11    16    21    26 ⎦"
            ]
          },
          "metadata": {},
          "execution_count": 101
        }
      ]
    },
    {
      "cell_type": "code",
      "source": [
        "np.linalg.matrix_rank(np.array(A).astype(np.float64))"
      ],
      "metadata": {
        "colab": {
          "base_uri": "https://localhost:8080/"
        },
        "id": "5vZ1R6r83Zic",
        "outputId": "14c83d28-c2bc-4b0d-b0eb-e6f0f540b813"
      },
      "execution_count": 102,
      "outputs": [
        {
          "output_type": "execute_result",
          "data": {
            "text/plain": [
              "6"
            ]
          },
          "metadata": {},
          "execution_count": 102
        }
      ]
    },
    {
      "cell_type": "code",
      "source": [
        "P,L,U = PLU(A,0)"
      ],
      "metadata": {
        "id": "YxIq0tH03cJc"
      },
      "execution_count": 103,
      "outputs": []
    },
    {
      "cell_type": "code",
      "source": [
        "P"
      ],
      "metadata": {
        "colab": {
          "base_uri": "https://localhost:8080/",
          "height": 139
        },
        "outputId": "76838df6-7a00-4946-e3eb-01ae9d7261f1",
        "id": "dC-BhXVF3y88"
      },
      "execution_count": 104,
      "outputs": [
        {
          "output_type": "execute_result",
          "data": {
            "text/latex": "$\\displaystyle \\left[\\begin{matrix}1 & 0 & 0 & 0 & 0 & 0\\\\0 & 1 & 0 & 0 & 0 & 0\\\\0 & 0 & 1 & 0 & 0 & 0\\\\0 & 0 & 0 & 1 & 0 & 0\\\\0 & 0 & 0 & 0 & 1 & 0\\\\0 & 0 & 0 & 0 & 0 & 1\\end{matrix}\\right]$",
            "text/plain": [
              "⎡1  0  0  0  0  0⎤\n",
              "⎢                ⎥\n",
              "⎢0  1  0  0  0  0⎥\n",
              "⎢                ⎥\n",
              "⎢0  0  1  0  0  0⎥\n",
              "⎢                ⎥\n",
              "⎢0  0  0  1  0  0⎥\n",
              "⎢                ⎥\n",
              "⎢0  0  0  0  1  0⎥\n",
              "⎢                ⎥\n",
              "⎣0  0  0  0  0  1⎦"
            ]
          },
          "metadata": {},
          "execution_count": 104
        }
      ]
    },
    {
      "cell_type": "code",
      "source": [
        "L"
      ],
      "metadata": {
        "colab": {
          "base_uri": "https://localhost:8080/",
          "height": 139
        },
        "id": "VoGS9ZR332tj",
        "outputId": "a9ba8a39-5d91-4ce6-85c7-358190cb6313"
      },
      "execution_count": 105,
      "outputs": [
        {
          "output_type": "execute_result",
          "data": {
            "text/latex": "$\\displaystyle \\left[\\begin{matrix}1 & 0 & 0 & 0 & 0 & 0\\\\0 & 1 & 0 & 0 & 0 & 0\\\\0 & 0 & 1 & 0 & 0 & 0\\\\0 & 0 & 0 & 1 & 0 & 0\\\\0 & 0 & 0 & 0 & 1 & 0\\\\0 & 0 & 0 & 0 & 0 & 1\\end{matrix}\\right]$",
            "text/plain": [
              "⎡1  0  0  0  0  0⎤\n",
              "⎢                ⎥\n",
              "⎢0  1  0  0  0  0⎥\n",
              "⎢                ⎥\n",
              "⎢0  0  1  0  0  0⎥\n",
              "⎢                ⎥\n",
              "⎢0  0  0  1  0  0⎥\n",
              "⎢                ⎥\n",
              "⎢0  0  0  0  1  0⎥\n",
              "⎢                ⎥\n",
              "⎣0  0  0  0  0  1⎦"
            ]
          },
          "metadata": {},
          "execution_count": 105
        }
      ]
    },
    {
      "cell_type": "code",
      "source": [
        "U"
      ],
      "metadata": {
        "colab": {
          "base_uri": "https://localhost:8080/",
          "height": 139
        },
        "id": "D4cZ8Wjm33vj",
        "outputId": "3dab8177-3329-4087-b240-1b4cf79da42e"
      },
      "execution_count": 106,
      "outputs": [
        {
          "output_type": "execute_result",
          "data": {
            "text/latex": "$\\displaystyle \\left[\\begin{matrix}3 & 3 & 3 & 3 & 3 & 3\\\\3 & 3 & \\frac{7}{3} & \\frac{9}{4} & \\frac{11}{5} & \\frac{13}{6}\\\\3 & \\frac{7}{3} & \\frac{11}{5} & \\frac{15}{7} & \\frac{19}{9} & \\frac{23}{11}\\\\3 & \\frac{9}{4} & \\frac{15}{7} & \\frac{21}{10} & \\frac{27}{13} & \\frac{33}{16}\\\\3 & \\frac{11}{5} & \\frac{19}{9} & \\frac{27}{13} & \\frac{35}{17} & \\frac{43}{21}\\\\3 & \\frac{13}{6} & \\frac{23}{11} & \\frac{33}{16} & \\frac{43}{21} & \\frac{53}{26}\\end{matrix}\\right]$",
            "text/plain": [
              "⎡3   3     3     3     3     3  ⎤\n",
              "⎢                               ⎥\n",
              "⎢3   3    7/3   9/4   11/5  13/6⎥\n",
              "⎢                               ⎥\n",
              "⎢                            23 ⎥\n",
              "⎢3  7/3   11/5  15/7  19/9   ── ⎥\n",
              "⎢                            11 ⎥\n",
              "⎢                               ⎥\n",
              "⎢                21    27    33 ⎥\n",
              "⎢3  9/4   15/7   ──    ──    ── ⎥\n",
              "⎢                10    13    16 ⎥\n",
              "⎢                               ⎥\n",
              "⎢                27    35    43 ⎥\n",
              "⎢3  11/5  19/9   ──    ──    ── ⎥\n",
              "⎢                13    17    21 ⎥\n",
              "⎢                               ⎥\n",
              "⎢          23    33    43    53 ⎥\n",
              "⎢3  13/6   ──    ──    ──    ── ⎥\n",
              "⎣          11    16    21    26 ⎦"
            ]
          },
          "metadata": {},
          "execution_count": 106
        }
      ]
    },
    {
      "cell_type": "code",
      "source": [
        "P,L,U = PLU(A,1)"
      ],
      "metadata": {
        "id": "QpmBaVOf3mCq"
      },
      "execution_count": 107,
      "outputs": []
    },
    {
      "cell_type": "code",
      "source": [
        "P"
      ],
      "metadata": {
        "colab": {
          "base_uri": "https://localhost:8080/",
          "height": 139
        },
        "outputId": "2210a8e6-d376-4c52-9f3b-77e0862944a5",
        "id": "l-ZKz9cg3zKB"
      },
      "execution_count": 108,
      "outputs": [
        {
          "output_type": "execute_result",
          "data": {
            "text/latex": "$\\displaystyle \\left[\\begin{matrix}1 & 0 & 0 & 0 & 0 & 0\\\\0 & 1 & 0 & 0 & 0 & 0\\\\0 & 0 & 1 & 0 & 0 & 0\\\\0 & 0 & 0 & 1 & 0 & 0\\\\0 & 0 & 0 & 0 & 1 & 0\\\\0 & 0 & 0 & 0 & 0 & 1\\end{matrix}\\right]$",
            "text/plain": [
              "⎡1  0  0  0  0  0⎤\n",
              "⎢                ⎥\n",
              "⎢0  1  0  0  0  0⎥\n",
              "⎢                ⎥\n",
              "⎢0  0  1  0  0  0⎥\n",
              "⎢                ⎥\n",
              "⎢0  0  0  1  0  0⎥\n",
              "⎢                ⎥\n",
              "⎢0  0  0  0  1  0⎥\n",
              "⎢                ⎥\n",
              "⎣0  0  0  0  0  1⎦"
            ]
          },
          "metadata": {},
          "execution_count": 108
        }
      ]
    },
    {
      "cell_type": "code",
      "source": [
        "L"
      ],
      "metadata": {
        "colab": {
          "base_uri": "https://localhost:8080/",
          "height": 139
        },
        "id": "tEDalj5D3-bm",
        "outputId": "e193f7d1-70d2-4ae5-bd4e-346e0b0b10f3"
      },
      "execution_count": 109,
      "outputs": [
        {
          "output_type": "execute_result",
          "data": {
            "text/latex": "$\\displaystyle \\left[\\begin{matrix}1 & 0 & 0 & 0 & 0 & 0\\\\-1 & 1 & 0 & 0 & 0 & 0\\\\-1 & 0 & 1 & 0 & 0 & 0\\\\-1 & 0 & 0 & 1 & 0 & 0\\\\-1 & 0 & 0 & 0 & 1 & 0\\\\-1 & 0 & 0 & 0 & 0 & 1\\end{matrix}\\right]$",
            "text/plain": [
              "⎡1   0  0  0  0  0⎤\n",
              "⎢                 ⎥\n",
              "⎢-1  1  0  0  0  0⎥\n",
              "⎢                 ⎥\n",
              "⎢-1  0  1  0  0  0⎥\n",
              "⎢                 ⎥\n",
              "⎢-1  0  0  1  0  0⎥\n",
              "⎢                 ⎥\n",
              "⎢-1  0  0  0  1  0⎥\n",
              "⎢                 ⎥\n",
              "⎣-1  0  0  0  0  1⎦"
            ]
          },
          "metadata": {},
          "execution_count": 109
        }
      ]
    },
    {
      "cell_type": "code",
      "source": [
        "U"
      ],
      "metadata": {
        "colab": {
          "base_uri": "https://localhost:8080/",
          "height": 139
        },
        "id": "5vcy8msi3_ir",
        "outputId": "eddf0028-dc68-4aeb-8b70-80d4796e32da"
      },
      "execution_count": 110,
      "outputs": [
        {
          "output_type": "execute_result",
          "data": {
            "text/latex": "$\\displaystyle \\left[\\begin{matrix}3 & 3 & 3 & 3 & 3 & 3\\\\0 & 0 & - \\frac{2}{3} & - \\frac{3}{4} & - \\frac{4}{5} & - \\frac{5}{6}\\\\0 & - \\frac{2}{3} & - \\frac{4}{5} & - \\frac{6}{7} & - \\frac{8}{9} & - \\frac{10}{11}\\\\0 & - \\frac{3}{4} & - \\frac{6}{7} & - \\frac{9}{10} & - \\frac{12}{13} & - \\frac{15}{16}\\\\0 & - \\frac{4}{5} & - \\frac{8}{9} & - \\frac{12}{13} & - \\frac{16}{17} & - \\frac{20}{21}\\\\0 & - \\frac{5}{6} & - \\frac{10}{11} & - \\frac{15}{16} & - \\frac{20}{21} & - \\frac{25}{26}\\end{matrix}\\right]$",
            "text/plain": [
              "⎡3   3     3      3     3     3  ⎤\n",
              "⎢                                ⎥\n",
              "⎢0   0    -2/3  -3/4   -4/5  -5/6⎥\n",
              "⎢                                ⎥\n",
              "⎢                            -10 ⎥\n",
              "⎢0  -2/3  -4/5  -6/7   -8/9  ────⎥\n",
              "⎢                             11 ⎥\n",
              "⎢                                ⎥\n",
              "⎢                      -12   -15 ⎥\n",
              "⎢0  -3/4  -6/7  -9/10  ────  ────⎥\n",
              "⎢                       13    16 ⎥\n",
              "⎢                                ⎥\n",
              "⎢               -12    -16   -20 ⎥\n",
              "⎢0  -4/5  -8/9  ────   ────  ────⎥\n",
              "⎢                13     17    21 ⎥\n",
              "⎢                                ⎥\n",
              "⎢         -10   -15    -20   -25 ⎥\n",
              "⎢0  -5/6  ────  ────   ────  ────⎥\n",
              "⎣          11    16     21    26 ⎦"
            ]
          },
          "metadata": {},
          "execution_count": 110
        }
      ]
    },
    {
      "cell_type": "code",
      "source": [
        "P,L,U = PLU(A,2)"
      ],
      "metadata": {
        "id": "MNQAe63E3oJo"
      },
      "execution_count": 111,
      "outputs": []
    },
    {
      "cell_type": "code",
      "source": [
        "P"
      ],
      "metadata": {
        "colab": {
          "base_uri": "https://localhost:8080/",
          "height": 139
        },
        "id": "jjDXHvHP4E2E",
        "outputId": "39e9ca0b-f653-4a41-ab29-39574a7b75b7"
      },
      "execution_count": 112,
      "outputs": [
        {
          "output_type": "execute_result",
          "data": {
            "text/latex": "$\\displaystyle \\left[\\begin{matrix}1 & 0 & 0 & 0 & 0 & 0\\\\0 & 0 & 0 & 0 & 0 & 1\\\\0 & 0 & 1 & 0 & 0 & 0\\\\0 & 0 & 0 & 1 & 0 & 0\\\\0 & 0 & 0 & 0 & 1 & 0\\\\0 & 1 & 0 & 0 & 0 & 0\\end{matrix}\\right]$",
            "text/plain": [
              "⎡1  0  0  0  0  0⎤\n",
              "⎢                ⎥\n",
              "⎢0  0  0  0  0  1⎥\n",
              "⎢                ⎥\n",
              "⎢0  0  1  0  0  0⎥\n",
              "⎢                ⎥\n",
              "⎢0  0  0  1  0  0⎥\n",
              "⎢                ⎥\n",
              "⎢0  0  0  0  1  0⎥\n",
              "⎢                ⎥\n",
              "⎣0  1  0  0  0  0⎦"
            ]
          },
          "metadata": {},
          "execution_count": 112
        }
      ]
    },
    {
      "cell_type": "code",
      "source": [
        "L"
      ],
      "metadata": {
        "colab": {
          "base_uri": "https://localhost:8080/",
          "height": 139
        },
        "id": "MjqUuewP4Gm0",
        "outputId": "6e7464f0-f333-4d6b-990a-f01b5e22ab62"
      },
      "execution_count": 113,
      "outputs": [
        {
          "output_type": "execute_result",
          "data": {
            "text/latex": "$\\displaystyle \\left[\\begin{matrix}1 & 0 & 0 & 0 & 0 & 0\\\\-1 & 1 & 0 & 0 & 0 & 0\\\\-1 & - \\frac{4}{5} & 1 & 0 & 0 & 0\\\\-1 & - \\frac{9}{10} & 0 & 1 & 0 & 0\\\\-1 & - \\frac{24}{25} & 0 & 0 & 1 & 0\\\\-1 & 0 & 0 & 0 & 0 & 1\\end{matrix}\\right]$",
            "text/plain": [
              "⎡1     0    0  0  0  0⎤\n",
              "⎢                     ⎥\n",
              "⎢-1    1    0  0  0  0⎥\n",
              "⎢                     ⎥\n",
              "⎢-1  -4/5   1  0  0  0⎥\n",
              "⎢                     ⎥\n",
              "⎢-1  -9/10  0  1  0  0⎥\n",
              "⎢                     ⎥\n",
              "⎢    -24              ⎥\n",
              "⎢-1  ────   0  0  1  0⎥\n",
              "⎢     25              ⎥\n",
              "⎢                     ⎥\n",
              "⎣-1    0    0  0  0  1⎦"
            ]
          },
          "metadata": {},
          "execution_count": 113
        }
      ]
    },
    {
      "cell_type": "code",
      "source": [
        "U"
      ],
      "metadata": {
        "colab": {
          "base_uri": "https://localhost:8080/",
          "height": 139
        },
        "id": "WSPyFWrl4Hz2",
        "outputId": "5c86a2b8-8723-4759-838b-b58a8304c498"
      },
      "execution_count": 114,
      "outputs": [
        {
          "output_type": "execute_result",
          "data": {
            "text/latex": "$\\displaystyle \\left[\\begin{matrix}3 & 3 & 3 & 3 & 3 & 3\\\\0 & - \\frac{5}{6} & - \\frac{10}{11} & - \\frac{15}{16} & - \\frac{20}{21} & - \\frac{25}{26}\\\\0 & 0 & - \\frac{4}{55} & - \\frac{3}{28} & - \\frac{8}{63} & - \\frac{20}{143}\\\\0 & 0 & - \\frac{3}{77} & - \\frac{9}{160} & - \\frac{6}{91} & - \\frac{15}{208}\\\\0 & 0 & - \\frac{8}{495} & - \\frac{3}{130} & - \\frac{16}{595} & - \\frac{8}{273}\\\\0 & 0 & - \\frac{2}{3} & - \\frac{3}{4} & - \\frac{4}{5} & - \\frac{5}{6}\\end{matrix}\\right]$",
            "text/plain": [
              "⎡3   3      3       3       3      3   ⎤\n",
              "⎢                                      ⎥\n",
              "⎢          -10     -15    -20     -25  ⎥\n",
              "⎢0  -5/6   ────    ────   ────    ──── ⎥\n",
              "⎢           11      16     21      26  ⎥\n",
              "⎢                                      ⎥\n",
              "⎢                                 -20  ⎥\n",
              "⎢0   0    -4/55   -3/28   -8/63   ──── ⎥\n",
              "⎢                                 143  ⎥\n",
              "⎢                                      ⎥\n",
              "⎢                                 -15  ⎥\n",
              "⎢0   0    -3/77   -9/160  -6/91   ──── ⎥\n",
              "⎢                                 208  ⎥\n",
              "⎢                                      ⎥\n",
              "⎢                         -16          ⎥\n",
              "⎢0   0    -8/495  -3/130  ────   -8/273⎥\n",
              "⎢                         595          ⎥\n",
              "⎢                                      ⎥\n",
              "⎣0   0     -2/3    -3/4   -4/5    -5/6 ⎦"
            ]
          },
          "metadata": {},
          "execution_count": 114
        }
      ]
    },
    {
      "cell_type": "code",
      "source": [
        "P,L,U = PLU(A,3)"
      ],
      "metadata": {
        "id": "DSzs0LN33mYU"
      },
      "execution_count": 115,
      "outputs": []
    },
    {
      "cell_type": "code",
      "source": [
        "P"
      ],
      "metadata": {
        "colab": {
          "base_uri": "https://localhost:8080/",
          "height": 139
        },
        "id": "0XpSv-M_4VSW",
        "outputId": "516f2808-b6cc-4b90-d89c-8de63b0aad50"
      },
      "execution_count": 116,
      "outputs": [
        {
          "output_type": "execute_result",
          "data": {
            "text/latex": "$\\displaystyle \\left[\\begin{matrix}1 & 0 & 0 & 0 & 0 & 0\\\\0 & 0 & 0 & 0 & 0 & 1\\\\0 & 1 & 0 & 0 & 0 & 0\\\\0 & 0 & 0 & 1 & 0 & 0\\\\0 & 0 & 0 & 0 & 1 & 0\\\\0 & 0 & 1 & 0 & 0 & 0\\end{matrix}\\right]$",
            "text/plain": [
              "⎡1  0  0  0  0  0⎤\n",
              "⎢                ⎥\n",
              "⎢0  0  0  0  0  1⎥\n",
              "⎢                ⎥\n",
              "⎢0  1  0  0  0  0⎥\n",
              "⎢                ⎥\n",
              "⎢0  0  0  1  0  0⎥\n",
              "⎢                ⎥\n",
              "⎢0  0  0  0  1  0⎥\n",
              "⎢                ⎥\n",
              "⎣0  0  1  0  0  0⎦"
            ]
          },
          "metadata": {},
          "execution_count": 116
        }
      ]
    },
    {
      "cell_type": "code",
      "source": [
        "L"
      ],
      "metadata": {
        "colab": {
          "base_uri": "https://localhost:8080/",
          "height": 139
        },
        "id": "Qd8qheQQ4WAM",
        "outputId": "8824f5c7-e14c-4073-d5dc-87b51dea10fc"
      },
      "execution_count": 117,
      "outputs": [
        {
          "output_type": "execute_result",
          "data": {
            "text/latex": "$\\displaystyle \\left[\\begin{matrix}1 & 0 & 0 & 0 & 0 & 0\\\\-1 & 1 & 0 & 0 & 0 & 0\\\\-1 & 0 & 1 & 0 & 0 & 0\\\\-1 & - \\frac{9}{10} & - \\frac{9}{154} & 1 & 0 & 0\\\\-1 & - \\frac{24}{25} & - \\frac{4}{165} & 0 & 1 & 0\\\\-1 & - \\frac{4}{5} & - \\frac{6}{55} & 0 & 0 & 1\\end{matrix}\\right]$",
            "text/plain": [
              "⎡1     0      0     0  0  0⎤\n",
              "⎢                          ⎥\n",
              "⎢-1    1      0     0  0  0⎥\n",
              "⎢                          ⎥\n",
              "⎢-1    0      1     0  0  0⎥\n",
              "⎢                          ⎥\n",
              "⎢-1  -9/10  -9/154  1  0  0⎥\n",
              "⎢                          ⎥\n",
              "⎢    -24                   ⎥\n",
              "⎢-1  ────   -4/165  0  1  0⎥\n",
              "⎢     25                   ⎥\n",
              "⎢                          ⎥\n",
              "⎣-1  -4/5   -6/55   0  0  1⎦"
            ]
          },
          "metadata": {},
          "execution_count": 117
        }
      ]
    },
    {
      "cell_type": "code",
      "source": [
        "U"
      ],
      "metadata": {
        "colab": {
          "base_uri": "https://localhost:8080/",
          "height": 139
        },
        "id": "m3ccUX6f4Yhz",
        "outputId": "251181e5-d113-4e35-e321-9621356c101e"
      },
      "execution_count": 118,
      "outputs": [
        {
          "output_type": "execute_result",
          "data": {
            "text/latex": "$\\displaystyle \\left[\\begin{matrix}3 & 3 & 3 & 3 & 3 & 3\\\\0 & - \\frac{5}{6} & - \\frac{10}{11} & - \\frac{15}{16} & - \\frac{20}{21} & - \\frac{25}{26}\\\\0 & 0 & - \\frac{2}{3} & - \\frac{3}{4} & - \\frac{4}{5} & - \\frac{5}{6}\\\\0 & 0 & 0 & - \\frac{153}{12320} & - \\frac{96}{5005} & - \\frac{375}{16016}\\\\0 & 0 & 0 & - \\frac{7}{1430} & - \\frac{736}{98175} & - \\frac{82}{9009}\\\\0 & 0 & 0 & - \\frac{39}{1540} & - \\frac{688}{17325} & - \\frac{7}{143}\\end{matrix}\\right]$",
            "text/plain": [
              "⎡3   3     3       3       3      3   ⎤\n",
              "⎢                                     ⎥\n",
              "⎢         -10    -15     -20     -25  ⎥\n",
              "⎢0  -5/6  ────   ────    ────    ──── ⎥\n",
              "⎢          11     16      21      26  ⎥\n",
              "⎢                                     ⎥\n",
              "⎢0   0    -2/3   -3/4    -4/5    -5/6 ⎥\n",
              "⎢                                     ⎥\n",
              "⎢                -153    -96    -375  ⎥\n",
              "⎢0   0     0     ─────   ────   ───── ⎥\n",
              "⎢                12320   5005   16016 ⎥\n",
              "⎢                                     ⎥\n",
              "⎢                        -736    -82  ⎥\n",
              "⎢0   0     0    -7/1430  ─────   ──── ⎥\n",
              "⎢                        98175   9009 ⎥\n",
              "⎢                                     ⎥\n",
              "⎢                -39     -688         ⎥\n",
              "⎢0   0     0     ────    ─────  -7/143⎥\n",
              "⎣                1540    17325        ⎦"
            ]
          },
          "metadata": {},
          "execution_count": 118
        }
      ]
    },
    {
      "cell_type": "code",
      "source": [
        "P,L,U = PLU(A,4)"
      ],
      "metadata": {
        "id": "jpBFLp-L3mfd"
      },
      "execution_count": 119,
      "outputs": []
    },
    {
      "cell_type": "code",
      "source": [
        "P"
      ],
      "metadata": {
        "colab": {
          "base_uri": "https://localhost:8080/",
          "height": 139
        },
        "outputId": "b824c85f-9db5-4b3b-d36b-22e7bd01b3ab",
        "id": "ksFa4z0g3zYG"
      },
      "execution_count": 120,
      "outputs": [
        {
          "output_type": "execute_result",
          "data": {
            "text/latex": "$\\displaystyle \\left[\\begin{matrix}1 & 0 & 0 & 0 & 0 & 0\\\\0 & 0 & 0 & 0 & 0 & 1\\\\0 & 1 & 0 & 0 & 0 & 0\\\\0 & 0 & 1 & 0 & 0 & 0\\\\0 & 0 & 0 & 0 & 1 & 0\\\\0 & 0 & 0 & 1 & 0 & 0\\end{matrix}\\right]$",
            "text/plain": [
              "⎡1  0  0  0  0  0⎤\n",
              "⎢                ⎥\n",
              "⎢0  0  0  0  0  1⎥\n",
              "⎢                ⎥\n",
              "⎢0  1  0  0  0  0⎥\n",
              "⎢                ⎥\n",
              "⎢0  0  1  0  0  0⎥\n",
              "⎢                ⎥\n",
              "⎢0  0  0  0  1  0⎥\n",
              "⎢                ⎥\n",
              "⎣0  0  0  1  0  0⎦"
            ]
          },
          "metadata": {},
          "execution_count": 120
        }
      ]
    },
    {
      "cell_type": "code",
      "source": [
        "L"
      ],
      "metadata": {
        "colab": {
          "base_uri": "https://localhost:8080/",
          "height": 139
        },
        "outputId": "663ef2e3-6df1-4f12-bee5-d8b33460cd41",
        "id": "I3G1R_Yj3zf1"
      },
      "execution_count": 121,
      "outputs": [
        {
          "output_type": "execute_result",
          "data": {
            "text/latex": "$\\displaystyle \\left[\\begin{matrix}1 & 0 & 0 & 0 & 0 & 0\\\\-1 & 1 & 0 & 0 & 0 & 0\\\\-1 & 0 & 1 & 0 & 0 & 0\\\\-1 & - \\frac{4}{5} & - \\frac{6}{55} & 1 & 0 & 0\\\\-1 & - \\frac{24}{25} & - \\frac{4}{165} & - \\frac{98}{507} & 1 & 0\\\\-1 & - \\frac{9}{10} & - \\frac{9}{154} & - \\frac{51}{104} & 0 & 1\\end{matrix}\\right]$",
            "text/plain": [
              "⎡1     0      0      0    0  0⎤\n",
              "⎢                             ⎥\n",
              "⎢-1    1      0      0    0  0⎥\n",
              "⎢                             ⎥\n",
              "⎢-1    0      1      0    0  0⎥\n",
              "⎢                             ⎥\n",
              "⎢-1  -4/5   -6/55    1    0  0⎥\n",
              "⎢                             ⎥\n",
              "⎢    -24            -98       ⎥\n",
              "⎢-1  ────   -4/165  ────  1  0⎥\n",
              "⎢     25            507       ⎥\n",
              "⎢                             ⎥\n",
              "⎢                   -51       ⎥\n",
              "⎢-1  -9/10  -9/154  ────  0  1⎥\n",
              "⎣                   104       ⎦"
            ]
          },
          "metadata": {},
          "execution_count": 121
        }
      ]
    },
    {
      "cell_type": "code",
      "source": [
        "U"
      ],
      "metadata": {
        "colab": {
          "base_uri": "https://localhost:8080/",
          "height": 139
        },
        "outputId": "7b7fb395-0b5e-4e09-e751-e97c7c9fa22d",
        "id": "SXUKqT8Q3zo5"
      },
      "execution_count": 122,
      "outputs": [
        {
          "output_type": "execute_result",
          "data": {
            "text/latex": "$\\displaystyle \\left[\\begin{matrix}3 & 3 & 3 & 3 & 3 & 3\\\\0 & - \\frac{5}{6} & - \\frac{10}{11} & - \\frac{15}{16} & - \\frac{20}{21} & - \\frac{25}{26}\\\\0 & 0 & - \\frac{2}{3} & - \\frac{3}{4} & - \\frac{4}{5} & - \\frac{5}{6}\\\\0 & 0 & 0 & - \\frac{39}{1540} & - \\frac{688}{17325} & - \\frac{7}{143}\\\\0 & 0 & 0 & 0 & \\frac{2432}{13574925} & \\frac{548}{1522521}\\\\0 & 0 & 0 & 0 & \\frac{2}{6825} & \\frac{123}{208208}\\end{matrix}\\right]$",
            "text/plain": [
              "⎡3   3     3     3       3         3   ⎤\n",
              "⎢                                      ⎥\n",
              "⎢         -10   -15     -20      -25   ⎥\n",
              "⎢0  -5/6  ────  ────    ────     ────  ⎥\n",
              "⎢          11    16      21       26   ⎥\n",
              "⎢                                      ⎥\n",
              "⎢0   0    -2/3  -3/4    -4/5     -5/6  ⎥\n",
              "⎢                                      ⎥\n",
              "⎢               -39    -688            ⎥\n",
              "⎢0   0     0    ────   ─────    -7/143 ⎥\n",
              "⎢               1540   17325           ⎥\n",
              "⎢                                      ⎥\n",
              "⎢                       2432      548  ⎥\n",
              "⎢0   0     0     0    ────────  ───────⎥\n",
              "⎢                     13574925  1522521⎥\n",
              "⎢                                      ⎥\n",
              "⎢                                123   ⎥\n",
              "⎢0   0     0     0     2/6825   ────── ⎥\n",
              "⎣                               208208 ⎦"
            ]
          },
          "metadata": {},
          "execution_count": 122
        }
      ]
    },
    {
      "cell_type": "code",
      "source": [
        "P,L,U = PLU(A,5)"
      ],
      "metadata": {
        "id": "HcG_6dUr4jzs"
      },
      "execution_count": 123,
      "outputs": []
    },
    {
      "cell_type": "code",
      "source": [
        "P"
      ],
      "metadata": {
        "colab": {
          "base_uri": "https://localhost:8080/",
          "height": 139
        },
        "id": "qnH2JLRu4mM1",
        "outputId": "397675ce-7dd8-489d-c044-5f767d8d0912"
      },
      "execution_count": 124,
      "outputs": [
        {
          "output_type": "execute_result",
          "data": {
            "text/latex": "$\\displaystyle \\left[\\begin{matrix}1 & 0 & 0 & 0 & 0 & 0\\\\0 & 0 & 0 & 0 & 0 & 1\\\\0 & 1 & 0 & 0 & 0 & 0\\\\0 & 0 & 1 & 0 & 0 & 0\\\\0 & 0 & 0 & 1 & 0 & 0\\\\0 & 0 & 0 & 0 & 1 & 0\\end{matrix}\\right]$",
            "text/plain": [
              "⎡1  0  0  0  0  0⎤\n",
              "⎢                ⎥\n",
              "⎢0  0  0  0  0  1⎥\n",
              "⎢                ⎥\n",
              "⎢0  1  0  0  0  0⎥\n",
              "⎢                ⎥\n",
              "⎢0  0  1  0  0  0⎥\n",
              "⎢                ⎥\n",
              "⎢0  0  0  1  0  0⎥\n",
              "⎢                ⎥\n",
              "⎣0  0  0  0  1  0⎦"
            ]
          },
          "metadata": {},
          "execution_count": 124
        }
      ]
    },
    {
      "cell_type": "code",
      "source": [
        "L"
      ],
      "metadata": {
        "colab": {
          "base_uri": "https://localhost:8080/",
          "height": 139
        },
        "id": "5mBFJUhZ4mu9",
        "outputId": "c7caa3ba-b5d8-410a-dec5-015002ab6b74"
      },
      "execution_count": 125,
      "outputs": [
        {
          "output_type": "execute_result",
          "data": {
            "text/latex": "$\\displaystyle \\left[\\begin{matrix}1 & 0 & 0 & 0 & 0 & 0\\\\-1 & 1 & 0 & 0 & 0 & 0\\\\-1 & 0 & 1 & 0 & 0 & 0\\\\-1 & - \\frac{4}{5} & - \\frac{6}{55} & 1 & 0 & 0\\\\-1 & - \\frac{9}{10} & - \\frac{9}{154} & - \\frac{51}{104} & 1 & 0\\\\-1 & - \\frac{24}{25} & - \\frac{4}{165} & - \\frac{98}{507} & - \\frac{1216}{1989} & 1\\end{matrix}\\right]$",
            "text/plain": [
              "⎡1     0      0      0      0     0⎤\n",
              "⎢                                  ⎥\n",
              "⎢-1    1      0      0      0     0⎥\n",
              "⎢                                  ⎥\n",
              "⎢-1    0      1      0      0     0⎥\n",
              "⎢                                  ⎥\n",
              "⎢-1  -4/5   -6/55    1      0     0⎥\n",
              "⎢                                  ⎥\n",
              "⎢                   -51            ⎥\n",
              "⎢-1  -9/10  -9/154  ────    1     0⎥\n",
              "⎢                   104            ⎥\n",
              "⎢                                  ⎥\n",
              "⎢    -24            -98   -1216    ⎥\n",
              "⎢-1  ────   -4/165  ────  ──────  1⎥\n",
              "⎣     25            507    1989    ⎦"
            ]
          },
          "metadata": {},
          "execution_count": 125
        }
      ]
    },
    {
      "cell_type": "code",
      "source": [
        "U"
      ],
      "metadata": {
        "colab": {
          "base_uri": "https://localhost:8080/",
          "height": 139
        },
        "id": "gnrlu8H_4nhE",
        "outputId": "1b7c50a7-37a7-4f2b-83d8-1b87c1d946b0"
      },
      "execution_count": 126,
      "outputs": [
        {
          "output_type": "execute_result",
          "data": {
            "text/latex": "$\\displaystyle \\left[\\begin{matrix}3 & 3 & 3 & 3 & 3 & 3\\\\0 & - \\frac{5}{6} & - \\frac{10}{11} & - \\frac{15}{16} & - \\frac{20}{21} & - \\frac{25}{26}\\\\0 & 0 & - \\frac{2}{3} & - \\frac{3}{4} & - \\frac{4}{5} & - \\frac{5}{6}\\\\0 & 0 & 0 & - \\frac{39}{1540} & - \\frac{688}{17325} & - \\frac{7}{143}\\\\0 & 0 & 0 & 0 & \\frac{2}{6825} & \\frac{123}{208208}\\\\0 & 0 & 0 & 0 & 0 & - \\frac{32}{25882857}\\end{matrix}\\right]$",
            "text/plain": [
              "⎡3   3     3     3      3        3    ⎤\n",
              "⎢                                     ⎥\n",
              "⎢         -10   -15    -20      -25   ⎥\n",
              "⎢0  -5/6  ────  ────   ────     ────  ⎥\n",
              "⎢          11    16     21       26   ⎥\n",
              "⎢                                     ⎥\n",
              "⎢0   0    -2/3  -3/4   -4/5     -5/6  ⎥\n",
              "⎢                                     ⎥\n",
              "⎢               -39   -688            ⎥\n",
              "⎢0   0     0    ────  ─────    -7/143 ⎥\n",
              "⎢               1540  17325           ⎥\n",
              "⎢                                     ⎥\n",
              "⎢                               123   ⎥\n",
              "⎢0   0     0     0    2/6825   ────── ⎥\n",
              "⎢                              208208 ⎥\n",
              "⎢                                     ⎥\n",
              "⎢                               -32   ⎥\n",
              "⎢0   0     0     0      0     ────────⎥\n",
              "⎣                             25882857⎦"
            ]
          },
          "metadata": {},
          "execution_count": 126
        }
      ]
    },
    {
      "cell_type": "code",
      "source": [
        "from sympy import  N\n",
        "N(U)\n"
      ],
      "metadata": {
        "colab": {
          "base_uri": "https://localhost:8080/",
          "height": 139
        },
        "id": "oy9KqpN85ecV",
        "outputId": "3d2e8115-8840-4194-d56f-54050d50cd94"
      },
      "execution_count": 127,
      "outputs": [
        {
          "output_type": "execute_result",
          "data": {
            "text/latex": "$\\displaystyle \\left[\\begin{matrix}3.0 & 3.0 & 3.0 & 3.0 & 3.0 & 3.0\\\\0 & -0.833333333333333 & -0.909090909090909 & -0.9375 & -0.952380952380952 & -0.961538461538462\\\\0 & 0 & -0.666666666666667 & -0.75 & -0.8 & -0.833333333333333\\\\0 & 0 & 0 & -0.0253246753246753 & -0.0397113997113997 & -0.048951048951049\\\\0 & 0 & 0 & 0 & 0.000293040293040293 & 0.000590755398447706\\\\0 & 0 & 0 & 0 & 0 & -1.23633955865073 \\cdot 10^{-6}\\end{matrix}\\right]$",
            "text/plain": [
              "⎡3.0         3.0                 3.0                  3.0                  3.0\n",
              "⎢                                                                             \n",
              "⎢ 0   -0.833333333333333  -0.909090909090909        -0.9375         -0.9523809\n",
              "⎢                                                                             \n",
              "⎢ 0           0           -0.666666666666667         -0.75                 -0.\n",
              "⎢                                                                             \n",
              "⎢ 0           0                   0           -0.0253246753246753  -0.03971139\n",
              "⎢                                                                             \n",
              "⎢ 0           0                   0                    0           0.000293040\n",
              "⎢                                                                             \n",
              "⎣ 0           0                   0                    0                    0 \n",
              "\n",
              "                   3.0         ⎤\n",
              "                               ⎥\n",
              "52380952    -0.961538461538462 ⎥\n",
              "                               ⎥\n",
              "8           -0.833333333333333 ⎥\n",
              "                               ⎥\n",
              "97113997    -0.048951048951049 ⎥\n",
              "                               ⎥\n",
              "293040293  0.000590755398447706⎥\n",
              "                               ⎥\n",
              "           -1.23633955865073e-6⎦"
            ]
          },
          "metadata": {},
          "execution_count": 127
        }
      ]
    }
  ]
}
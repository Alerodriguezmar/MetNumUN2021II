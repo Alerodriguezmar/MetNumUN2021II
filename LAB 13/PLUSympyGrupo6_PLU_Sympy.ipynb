{
  "nbformat": 4,
  "nbformat_minor": 0,
  "metadata": {
    "colab": {
      "name": "gjhernandezp_PLU_Sympy.ipynb",
      "provenance": [],
      "collapsed_sections": []
    },
    "kernelspec": {
      "name": "python3",
      "display_name": "Python 3"
    },
    "language_info": {
      "name": "python"
    }
  },
  "cells": [
    {
      "cell_type": "markdown",
      "source": [
        "# PLU SymPy"
      ],
      "metadata": {
        "id": "2b0X1rlVghnD"
      }
    },
    {
      "cell_type": "code",
      "source": [
        "from sympy import Matrix,init_printing, eye, zeros\n",
        "init_printing()"
      ],
      "metadata": {
        "id": "5YpJlcuLtIBn"
      },
      "execution_count": 39,
      "outputs": []
    },
    {
      "cell_type": "code",
      "source": [
        "import sympy \n",
        "import numpy as np\n",
        "def PLU(A,k):\n",
        "    U = A.copy()\n",
        "    shape_a = U.shape\n",
        "    n = shape_a[0]\n",
        "    L = np.eye(n)\n",
        "    P = np.eye(n)\n",
        "    for i in range(n):\n",
        "        k = i\n",
        "        comp = abs(U[i, i])\n",
        "        for j in range(i, n):\n",
        "            if abs(U[j, i]) > comp:\n",
        "                k = j\n",
        "                comp = abs(U[j, i])\n",
        "        line_u = U[k, :].copy()\n",
        "        U[k, :] = U[i, :]\n",
        "        U[i, :] = line_u\n",
        "        line_p = P[k, :].copy()\n",
        "        P[k, :] = P[i, :]\n",
        "        P[i, :] = line_p\n",
        "        for j in range(i + 1, n):\n",
        "            g = U[j, i] / U[i, i]\n",
        "            L[j, i] = g\n",
        "            U[j, :] -= g * U[i, :]\n",
        "    return L, U, P\n"
      ],
      "metadata": {
        "id": "1u2PJf3otKcc"
      },
      "execution_count": 46,
      "outputs": []
    },
    {
      "cell_type": "code",
      "source": [
        "A = Matrix([[-2,2,-1], [6,-6,7], [3,-8,4]])\n",
        "A"
      ],
      "metadata": {
        "colab": {
          "base_uri": "https://localhost:8080/",
          "height": 78
        },
        "id": "7HLfQMyxz4h9",
        "outputId": "f067a95e-5358-454d-8d3c-31f9285ca030"
      },
      "execution_count": 40,
      "outputs": [
        {
          "output_type": "execute_result",
          "data": {
            "text/latex": "$\\displaystyle \\left[\\begin{matrix}-2 & 2 & -1\\\\6 & -6 & 7\\\\3 & -8 & 4\\end{matrix}\\right]$",
            "text/plain": [
              "⎡-2  2   -1⎤\n",
              "⎢          ⎥\n",
              "⎢6   -6  7 ⎥\n",
              "⎢          ⎥\n",
              "⎣3   -8  4 ⎦"
            ]
          },
          "metadata": {},
          "execution_count": 40
        }
      ]
    },
    {
      "cell_type": "code",
      "source": [
        "P,L,U = PLU(A,0)"
      ],
      "metadata": {
        "id": "6leWL6-jtRkF"
      },
      "execution_count": 41,
      "outputs": []
    },
    {
      "cell_type": "code",
      "source": [
        "P"
      ],
      "metadata": {
        "colab": {
          "base_uri": "https://localhost:8080/"
        },
        "id": "v2_Euu2Dy6rt",
        "outputId": "26843adc-e43d-4cf7-9c08-802f420c2ae3"
      },
      "execution_count": 7,
      "outputs": [
        {
          "output_type": "execute_result",
          "data": {
            "text/plain": [
              "array([[ 1.        ,  0.        ,  0.        ],\n",
              "       [-0.33333333,  1.        ,  0.        ],\n",
              "       [ 0.5       ,  0.        ,  1.        ]])"
            ]
          },
          "metadata": {},
          "execution_count": 7
        }
      ]
    },
    {
      "cell_type": "code",
      "source": [
        "L"
      ],
      "metadata": {
        "colab": {
          "base_uri": "https://localhost:8080/",
          "height": 78
        },
        "id": "wUIt2RTTy3qG",
        "outputId": "25cb3cb4-4b16-4126-d51a-7173ab9344e8"
      },
      "execution_count": 8,
      "outputs": [
        {
          "output_type": "execute_result",
          "data": {
            "text/latex": "$\\displaystyle \\left[\\begin{matrix}6 & -6 & 7\\\\0 & -5 & \\frac{1}{2}\\\\0 & 0 & \\frac{4}{3}\\end{matrix}\\right]$",
            "text/plain": [
              "⎡6  -6   7 ⎤\n",
              "⎢          ⎥\n",
              "⎢0  -5  1/2⎥\n",
              "⎢          ⎥\n",
              "⎣0  0   4/3⎦"
            ]
          },
          "metadata": {},
          "execution_count": 8
        }
      ]
    },
    {
      "cell_type": "code",
      "source": [
        "U"
      ],
      "metadata": {
        "colab": {
          "base_uri": "https://localhost:8080/"
        },
        "id": "WU6c9cVoy4md",
        "outputId": "80004f17-16a4-4563-df1e-e43c7e2aebeb"
      },
      "execution_count": 9,
      "outputs": [
        {
          "output_type": "execute_result",
          "data": {
            "text/plain": [
              "array([[0., 1., 0.],\n",
              "       [0., 0., 1.],\n",
              "       [1., 0., 0.]])"
            ]
          },
          "metadata": {},
          "execution_count": 9
        }
      ]
    },
    {
      "cell_type": "code",
      "source": [
        "P,L,U = PLU(A,1)"
      ],
      "metadata": {
        "id": "VwkeklsnzXm9",
        "colab": {
          "base_uri": "https://localhost:8080/"
        },
        "outputId": "f18b8577-d8f8-4eb7-8741-56d66a323a7f"
      },
      "execution_count": 10,
      "outputs": [
        {
          "output_type": "stream",
          "name": "stdout",
          "text": [
            "Matrix([[-2, 2, -1], [6, -6, 7], [3, -8, 4]])\n",
            "Matrix([[6, -6, 7], [-2, 2, -1], [3, -8, 4]])\n",
            "Matrix([[6, -6, 7], [0, 0, 4/3], [0, -5, 1/2]])\n",
            "Matrix([[6, -6, 7], [0, -5, 1/2], [0, 0, 4/3]])\n",
            "Matrix([[6, -6, 7], [0, -5, 1/2], [0, 0, 4/3]])\n",
            "Matrix([[6, -6, 7], [0, -5, 1/2], [0, 0, 4/3]])\n"
          ]
        }
      ]
    },
    {
      "cell_type": "code",
      "source": [
        "P"
      ],
      "metadata": {
        "colab": {
          "base_uri": "https://localhost:8080/"
        },
        "id": "mmhvYJg6zZGl",
        "outputId": "c18ca276-30cb-4673-ff1a-9839e7ae8767"
      },
      "execution_count": 11,
      "outputs": [
        {
          "output_type": "execute_result",
          "data": {
            "text/plain": [
              "array([[ 1.        ,  0.        ,  0.        ],\n",
              "       [-0.33333333,  1.        ,  0.        ],\n",
              "       [ 0.5       ,  0.        ,  1.        ]])"
            ]
          },
          "metadata": {},
          "execution_count": 11
        }
      ]
    },
    {
      "cell_type": "code",
      "source": [
        "L"
      ],
      "metadata": {
        "colab": {
          "base_uri": "https://localhost:8080/",
          "height": 78
        },
        "id": "GYVPxQcfzZud",
        "outputId": "ffbc06db-682f-49c4-a3b8-d669a5956f4f"
      },
      "execution_count": 12,
      "outputs": [
        {
          "output_type": "execute_result",
          "data": {
            "text/latex": "$\\displaystyle \\left[\\begin{matrix}6 & -6 & 7\\\\0 & -5 & \\frac{1}{2}\\\\0 & 0 & \\frac{4}{3}\\end{matrix}\\right]$",
            "text/plain": [
              "⎡6  -6   7 ⎤\n",
              "⎢          ⎥\n",
              "⎢0  -5  1/2⎥\n",
              "⎢          ⎥\n",
              "⎣0  0   4/3⎦"
            ]
          },
          "metadata": {},
          "execution_count": 12
        }
      ]
    },
    {
      "cell_type": "code",
      "source": [
        "U"
      ],
      "metadata": {
        "colab": {
          "base_uri": "https://localhost:8080/"
        },
        "id": "Ii_G1E-fzauc",
        "outputId": "0ef1dd06-9e8d-424a-d0ec-5646e8530cb5"
      },
      "execution_count": 13,
      "outputs": [
        {
          "output_type": "execute_result",
          "data": {
            "text/plain": [
              "array([[0., 1., 0.],\n",
              "       [0., 0., 1.],\n",
              "       [1., 0., 0.]])"
            ]
          },
          "metadata": {},
          "execution_count": 13
        }
      ]
    },
    {
      "cell_type": "code",
      "source": [
        "P,L,U = PLU(A,2)"
      ],
      "metadata": {
        "id": "yxpCf2HCzkL-",
        "colab": {
          "base_uri": "https://localhost:8080/"
        },
        "outputId": "a6abb342-0790-4e82-e72d-94454c0ec8b6"
      },
      "execution_count": 14,
      "outputs": [
        {
          "output_type": "stream",
          "name": "stdout",
          "text": [
            "Matrix([[-2, 2, -1], [6, -6, 7], [3, -8, 4]])\n",
            "Matrix([[6, -6, 7], [-2, 2, -1], [3, -8, 4]])\n",
            "Matrix([[6, -6, 7], [0, 0, 4/3], [0, -5, 1/2]])\n",
            "Matrix([[6, -6, 7], [0, -5, 1/2], [0, 0, 4/3]])\n",
            "Matrix([[6, -6, 7], [0, -5, 1/2], [0, 0, 4/3]])\n",
            "Matrix([[6, -6, 7], [0, -5, 1/2], [0, 0, 4/3]])\n"
          ]
        }
      ]
    },
    {
      "cell_type": "code",
      "source": [
        "P"
      ],
      "metadata": {
        "colab": {
          "base_uri": "https://localhost:8080/"
        },
        "id": "mP89CHIDznos",
        "outputId": "02ec7657-3e2d-437f-ddbd-5aa2c0ba5a63"
      },
      "execution_count": 15,
      "outputs": [
        {
          "output_type": "execute_result",
          "data": {
            "text/plain": [
              "array([[ 1.        ,  0.        ,  0.        ],\n",
              "       [-0.33333333,  1.        ,  0.        ],\n",
              "       [ 0.5       ,  0.        ,  1.        ]])"
            ]
          },
          "metadata": {},
          "execution_count": 15
        }
      ]
    },
    {
      "cell_type": "code",
      "source": [
        "L"
      ],
      "metadata": {
        "colab": {
          "base_uri": "https://localhost:8080/",
          "height": 78
        },
        "id": "bZvdCOMgzoh2",
        "outputId": "2db01ed2-c21e-4738-c99b-94228502df41"
      },
      "execution_count": 16,
      "outputs": [
        {
          "output_type": "execute_result",
          "data": {
            "text/latex": "$\\displaystyle \\left[\\begin{matrix}6 & -6 & 7\\\\0 & -5 & \\frac{1}{2}\\\\0 & 0 & \\frac{4}{3}\\end{matrix}\\right]$",
            "text/plain": [
              "⎡6  -6   7 ⎤\n",
              "⎢          ⎥\n",
              "⎢0  -5  1/2⎥\n",
              "⎢          ⎥\n",
              "⎣0  0   4/3⎦"
            ]
          },
          "metadata": {},
          "execution_count": 16
        }
      ]
    },
    {
      "cell_type": "code",
      "source": [
        "U"
      ],
      "metadata": {
        "colab": {
          "base_uri": "https://localhost:8080/"
        },
        "id": "O64hZyl7zqE8",
        "outputId": "63f3f9c4-107a-4a74-96e8-90aa5e3f662b"
      },
      "execution_count": 17,
      "outputs": [
        {
          "output_type": "execute_result",
          "data": {
            "text/plain": [
              "array([[0., 1., 0.],\n",
              "       [0., 0., 1.],\n",
              "       [1., 0., 0.]])"
            ]
          },
          "metadata": {},
          "execution_count": 17
        }
      ]
    },
    {
      "cell_type": "code",
      "source": [
        "from sympy import  N\n",
        "N(U)"
      ],
      "metadata": {
        "colab": {
          "base_uri": "https://localhost:8080/",
          "height": 269
        },
        "id": "lEWtqQq4z-_E",
        "outputId": "69895341-2064-4d0a-99bf-7023c4b29c43"
      },
      "execution_count": 47,
      "outputs": [
        {
          "output_type": "error",
          "ename": "AttributeError",
          "evalue": "ignored",
          "traceback": [
            "\u001b[0;31m---------------------------------------------------------------------------\u001b[0m",
            "\u001b[0;31mAttributeError\u001b[0m                            Traceback (most recent call last)",
            "\u001b[0;32m<ipython-input-47-dc8c603e421f>\u001b[0m in \u001b[0;36m<module>\u001b[0;34m()\u001b[0m\n\u001b[1;32m      1\u001b[0m \u001b[0;32mfrom\u001b[0m \u001b[0msympy\u001b[0m \u001b[0;32mimport\u001b[0m  \u001b[0mN\u001b[0m\u001b[0;34m\u001b[0m\u001b[0;34m\u001b[0m\u001b[0m\n\u001b[0;32m----> 2\u001b[0;31m \u001b[0mN\u001b[0m\u001b[0;34m(\u001b[0m\u001b[0mU\u001b[0m\u001b[0;34m)\u001b[0m\u001b[0;34m\u001b[0m\u001b[0;34m\u001b[0m\u001b[0m\n\u001b[0m",
            "\u001b[0;32m/usr/local/lib/python3.7/dist-packages/sympy/core/evalf.py\u001b[0m in \u001b[0;36mN\u001b[0;34m(x, n, **options)\u001b[0m\n\u001b[1;32m   1573\u001b[0m     \u001b[0;31m# by using rational=True, any evaluation of a string\u001b[0m\u001b[0;34m\u001b[0m\u001b[0;34m\u001b[0m\u001b[0;34m\u001b[0m\u001b[0m\n\u001b[1;32m   1574\u001b[0m     \u001b[0;31m# will be done using exact values for the Floats\u001b[0m\u001b[0;34m\u001b[0m\u001b[0;34m\u001b[0m\u001b[0;34m\u001b[0m\u001b[0m\n\u001b[0;32m-> 1575\u001b[0;31m     \u001b[0;32mreturn\u001b[0m \u001b[0msympify\u001b[0m\u001b[0;34m(\u001b[0m\u001b[0mx\u001b[0m\u001b[0;34m,\u001b[0m \u001b[0mrational\u001b[0m\u001b[0;34m=\u001b[0m\u001b[0;32mTrue\u001b[0m\u001b[0;34m)\u001b[0m\u001b[0;34m.\u001b[0m\u001b[0mevalf\u001b[0m\u001b[0;34m(\u001b[0m\u001b[0mn\u001b[0m\u001b[0;34m,\u001b[0m \u001b[0;34m**\u001b[0m\u001b[0moptions\u001b[0m\u001b[0;34m)\u001b[0m\u001b[0;34m\u001b[0m\u001b[0;34m\u001b[0m\u001b[0m\n\u001b[0m",
            "\u001b[0;31mAttributeError\u001b[0m: 'ImmutableDenseNDimArray' object has no attribute 'evalf'"
          ]
        }
      ]
    },
    {
      "cell_type": "code",
      "source": [
        "# Now, generate a full rank matrix and test the naive implementation\n",
        "\n",
        "import sympy \n",
        "import numpy as np\n",
        "\n",
        "N = 6\n",
        "A = sympy.zeros(N)\n",
        "for i in range(N):\n",
        "    for j in range(N):\n",
        "        A[i, j] = 2 + sympy.Rational(1,i*j+1)\n",
        "\n",
        "A"
      ],
      "metadata": {
        "colab": {
          "base_uri": "https://localhost:8080/",
          "height": 139
        },
        "id": "wqtMmRTM0q-l",
        "outputId": "14bb9963-079e-46bb-e740-1956f786a639"
      },
      "execution_count": 43,
      "outputs": [
        {
          "output_type": "execute_result",
          "data": {
            "text/latex": "$\\displaystyle \\left[\\begin{matrix}3 & 3 & 3 & 3 & 3 & 3\\\\3 & \\frac{5}{2} & \\frac{7}{3} & \\frac{9}{4} & \\frac{11}{5} & \\frac{13}{6}\\\\3 & \\frac{7}{3} & \\frac{11}{5} & \\frac{15}{7} & \\frac{19}{9} & \\frac{23}{11}\\\\3 & \\frac{9}{4} & \\frac{15}{7} & \\frac{21}{10} & \\frac{27}{13} & \\frac{33}{16}\\\\3 & \\frac{11}{5} & \\frac{19}{9} & \\frac{27}{13} & \\frac{35}{17} & \\frac{43}{21}\\\\3 & \\frac{13}{6} & \\frac{23}{11} & \\frac{33}{16} & \\frac{43}{21} & \\frac{53}{26}\\end{matrix}\\right]$",
            "text/plain": [
              "⎡3   3     3     3     3     3  ⎤\n",
              "⎢                               ⎥\n",
              "⎢3  5/2   7/3   9/4   11/5  13/6⎥\n",
              "⎢                               ⎥\n",
              "⎢                            23 ⎥\n",
              "⎢3  7/3   11/5  15/7  19/9   ── ⎥\n",
              "⎢                            11 ⎥\n",
              "⎢                               ⎥\n",
              "⎢                21    27    33 ⎥\n",
              "⎢3  9/4   15/7   ──    ──    ── ⎥\n",
              "⎢                10    13    16 ⎥\n",
              "⎢                               ⎥\n",
              "⎢                27    35    43 ⎥\n",
              "⎢3  11/5  19/9   ──    ──    ── ⎥\n",
              "⎢                13    17    21 ⎥\n",
              "⎢                               ⎥\n",
              "⎢          23    33    43    53 ⎥\n",
              "⎢3  13/6   ──    ──    ──    ── ⎥\n",
              "⎣          11    16    21    26 ⎦"
            ]
          },
          "metadata": {},
          "execution_count": 43
        }
      ]
    },
    {
      "cell_type": "code",
      "source": [
        "np.array(A).astype(np.float64)"
      ],
      "metadata": {
        "colab": {
          "base_uri": "https://localhost:8080/"
        },
        "id": "ZvYZLTuV0wC9",
        "outputId": "c5afcfe3-1b96-4368-ea51-a276a8be556a"
      },
      "execution_count": 20,
      "outputs": [
        {
          "output_type": "execute_result",
          "data": {
            "text/plain": [
              "array([[3.        , 3.        , 3.        , 3.        , 3.        ,\n",
              "        3.        ],\n",
              "       [3.        , 2.5       , 2.33333333, 2.25      , 2.2       ,\n",
              "        2.16666667],\n",
              "       [3.        , 2.33333333, 2.2       , 2.14285714, 2.11111111,\n",
              "        2.09090909],\n",
              "       [3.        , 2.25      , 2.14285714, 2.1       , 2.07692308,\n",
              "        2.0625    ],\n",
              "       [3.        , 2.2       , 2.11111111, 2.07692308, 2.05882353,\n",
              "        2.04761905],\n",
              "       [3.        , 2.16666667, 2.09090909, 2.0625    , 2.04761905,\n",
              "        2.03846154]])"
            ]
          },
          "metadata": {},
          "execution_count": 20
        }
      ]
    },
    {
      "cell_type": "code",
      "source": [
        "np.linalg.matrix_rank(np.array(A).astype(np.float64))"
      ],
      "metadata": {
        "colab": {
          "base_uri": "https://localhost:8080/"
        },
        "id": "xz7BbxaS3KHG",
        "outputId": "b0670a62-f9db-4595-ba59-5e6c3ae40a99"
      },
      "execution_count": 21,
      "outputs": [
        {
          "output_type": "execute_result",
          "data": {
            "text/plain": [
              "6"
            ]
          },
          "metadata": {},
          "execution_count": 21
        }
      ]
    },
    {
      "cell_type": "code",
      "source": [
        "A[1, 1] = 3"
      ],
      "metadata": {
        "id": "hXXhpoCQ3WwU"
      },
      "execution_count": 22,
      "outputs": []
    },
    {
      "cell_type": "code",
      "source": [
        "A"
      ],
      "metadata": {
        "colab": {
          "base_uri": "https://localhost:8080/",
          "height": 139
        },
        "id": "5TGp8_iB3dmd",
        "outputId": "0d43f0ac-dd0d-4271-fc5d-b25091595da4"
      },
      "execution_count": 23,
      "outputs": [
        {
          "output_type": "execute_result",
          "data": {
            "text/latex": "$\\displaystyle \\left[\\begin{matrix}3 & 3 & 3 & 3 & 3 & 3\\\\3 & 3 & \\frac{7}{3} & \\frac{9}{4} & \\frac{11}{5} & \\frac{13}{6}\\\\3 & \\frac{7}{3} & \\frac{11}{5} & \\frac{15}{7} & \\frac{19}{9} & \\frac{23}{11}\\\\3 & \\frac{9}{4} & \\frac{15}{7} & \\frac{21}{10} & \\frac{27}{13} & \\frac{33}{16}\\\\3 & \\frac{11}{5} & \\frac{19}{9} & \\frac{27}{13} & \\frac{35}{17} & \\frac{43}{21}\\\\3 & \\frac{13}{6} & \\frac{23}{11} & \\frac{33}{16} & \\frac{43}{21} & \\frac{53}{26}\\end{matrix}\\right]$",
            "text/plain": [
              "⎡3   3     3     3     3     3  ⎤\n",
              "⎢                               ⎥\n",
              "⎢3   3    7/3   9/4   11/5  13/6⎥\n",
              "⎢                               ⎥\n",
              "⎢                            23 ⎥\n",
              "⎢3  7/3   11/5  15/7  19/9   ── ⎥\n",
              "⎢                            11 ⎥\n",
              "⎢                               ⎥\n",
              "⎢                21    27    33 ⎥\n",
              "⎢3  9/4   15/7   ──    ──    ── ⎥\n",
              "⎢                10    13    16 ⎥\n",
              "⎢                               ⎥\n",
              "⎢                27    35    43 ⎥\n",
              "⎢3  11/5  19/9   ──    ──    ── ⎥\n",
              "⎢                13    17    21 ⎥\n",
              "⎢                               ⎥\n",
              "⎢          23    33    43    53 ⎥\n",
              "⎢3  13/6   ──    ──    ──    ── ⎥\n",
              "⎣          11    16    21    26 ⎦"
            ]
          },
          "metadata": {},
          "execution_count": 23
        }
      ]
    },
    {
      "cell_type": "code",
      "source": [
        "np.linalg.matrix_rank(np.array(A).astype(np.float64))"
      ],
      "metadata": {
        "colab": {
          "base_uri": "https://localhost:8080/"
        },
        "id": "5vZ1R6r83Zic",
        "outputId": "091eed3b-c682-4dcb-cfbe-c9669556779b"
      },
      "execution_count": 24,
      "outputs": [
        {
          "output_type": "execute_result",
          "data": {
            "text/plain": [
              "6"
            ]
          },
          "metadata": {},
          "execution_count": 24
        }
      ]
    },
    {
      "cell_type": "code",
      "source": [
        "P,L,U = PLU(A,0)"
      ],
      "metadata": {
        "id": "YxIq0tH03cJc",
        "colab": {
          "base_uri": "https://localhost:8080/"
        },
        "outputId": "d3f0fa46-1cf2-422e-e0d4-0eb6cf7c9e32"
      },
      "execution_count": 25,
      "outputs": [
        {
          "output_type": "stream",
          "name": "stdout",
          "text": [
            "Matrix([[3, 3, 3, 3, 3, 3], [3, 3, 7/3, 9/4, 11/5, 13/6], [3, 7/3, 11/5, 15/7, 19/9, 23/11], [3, 9/4, 15/7, 21/10, 27/13, 33/16], [3, 11/5, 19/9, 27/13, 35/17, 43/21], [3, 13/6, 23/11, 33/16, 43/21, 53/26]])\n",
            "Matrix([[3, 3, 3, 3, 3, 3], [3, 3, 7/3, 9/4, 11/5, 13/6], [3, 7/3, 11/5, 15/7, 19/9, 23/11], [3, 9/4, 15/7, 21/10, 27/13, 33/16], [3, 11/5, 19/9, 27/13, 35/17, 43/21], [3, 13/6, 23/11, 33/16, 43/21, 53/26]])\n",
            "Matrix([[3, 3, 3, 3, 3, 3], [0, 0, -2/3, -3/4, -4/5, -5/6], [0, -2/3, -4/5, -6/7, -8/9, -10/11], [0, -3/4, -6/7, -9/10, -12/13, -15/16], [0, -4/5, -8/9, -12/13, -16/17, -20/21], [0, -5/6, -10/11, -15/16, -20/21, -25/26]])\n",
            "Matrix([[3, 3, 3, 3, 3, 3], [0, -5/6, -10/11, -15/16, -20/21, -25/26], [0, -2/3, -4/5, -6/7, -8/9, -10/11], [0, -3/4, -6/7, -9/10, -12/13, -15/16], [0, -4/5, -8/9, -12/13, -16/17, -20/21], [0, 0, -2/3, -3/4, -4/5, -5/6]])\n",
            "Matrix([[3, 3, 3, 3, 3, 3], [0, -5/6, -10/11, -15/16, -20/21, -25/26], [0, 0, -4/55, -3/28, -8/63, -20/143], [0, 0, -3/77, -9/160, -6/91, -15/208], [0, 0, -8/495, -3/130, -16/595, -8/273], [0, 0, -2/3, -3/4, -4/5, -5/6]])\n",
            "Matrix([[3, 3, 3, 3, 3, 3], [0, -5/6, -10/11, -15/16, -20/21, -25/26], [0, 0, -2/3, -3/4, -4/5, -5/6], [0, 0, -3/77, -9/160, -6/91, -15/208], [0, 0, -8/495, -3/130, -16/595, -8/273], [0, 0, -4/55, -3/28, -8/63, -20/143]])\n",
            "Matrix([[3, 3, 3, 3, 3, 3], [0, -5/6, -10/11, -15/16, -20/21, -25/26], [0, 0, -2/3, -3/4, -4/5, -5/6], [0, 0, 0, -153/12320, -96/5005, -375/16016], [0, 0, 0, -7/1430, -736/98175, -82/9009], [0, 0, 0, -39/1540, -688/17325, -7/143]])\n",
            "Matrix([[3, 3, 3, 3, 3, 3], [0, -5/6, -10/11, -15/16, -20/21, -25/26], [0, 0, -2/3, -3/4, -4/5, -5/6], [0, 0, 0, -39/1540, -688/17325, -7/143], [0, 0, 0, -7/1430, -736/98175, -82/9009], [0, 0, 0, -153/12320, -96/5005, -375/16016]])\n",
            "Matrix([[3, 3, 3, 3, 3, 3], [0, -5/6, -10/11, -15/16, -20/21, -25/26], [0, 0, -2/3, -3/4, -4/5, -5/6], [0, 0, 0, -39/1540, -688/17325, -7/143], [0, 0, 0, 0, 2432/13574925, 548/1522521], [0, 0, 0, 0, 2/6825, 123/208208]])\n",
            "Matrix([[3, 3, 3, 3, 3, 3], [0, -5/6, -10/11, -15/16, -20/21, -25/26], [0, 0, -2/3, -3/4, -4/5, -5/6], [0, 0, 0, -39/1540, -688/17325, -7/143], [0, 0, 0, 0, 2/6825, 123/208208], [0, 0, 0, 0, 2432/13574925, 548/1522521]])\n",
            "Matrix([[3, 3, 3, 3, 3, 3], [0, -5/6, -10/11, -15/16, -20/21, -25/26], [0, 0, -2/3, -3/4, -4/5, -5/6], [0, 0, 0, -39/1540, -688/17325, -7/143], [0, 0, 0, 0, 2/6825, 123/208208], [0, 0, 0, 0, 0, -32/25882857]])\n",
            "Matrix([[3, 3, 3, 3, 3, 3], [0, -5/6, -10/11, -15/16, -20/21, -25/26], [0, 0, -2/3, -3/4, -4/5, -5/6], [0, 0, 0, -39/1540, -688/17325, -7/143], [0, 0, 0, 0, 2/6825, 123/208208], [0, 0, 0, 0, 0, -32/25882857]])\n"
          ]
        }
      ]
    },
    {
      "cell_type": "code",
      "source": [
        "P"
      ],
      "metadata": {
        "colab": {
          "base_uri": "https://localhost:8080/"
        },
        "outputId": "7ea438c6-8630-43aa-f141-f630b2898ade",
        "id": "dC-BhXVF3y88"
      },
      "execution_count": 26,
      "outputs": [
        {
          "output_type": "execute_result",
          "data": {
            "text/plain": [
              "array([[1.        , 0.        , 0.        , 0.        , 0.        ,\n",
              "        0.        ],\n",
              "       [1.        , 1.        , 0.        , 0.        , 0.        ,\n",
              "        0.        ],\n",
              "       [1.        , 0.8       , 1.        , 0.        , 0.        ,\n",
              "        0.        ],\n",
              "       [1.        , 0.9       , 0.05844156, 1.        , 0.        ,\n",
              "        0.        ],\n",
              "       [1.        , 0.96      , 0.02424242, 0.19329389, 1.        ,\n",
              "        0.        ],\n",
              "       [1.        , 0.        , 0.10909091, 0.49038462, 0.61136249,\n",
              "        1.        ]])"
            ]
          },
          "metadata": {},
          "execution_count": 26
        }
      ]
    },
    {
      "cell_type": "code",
      "source": [
        "L"
      ],
      "metadata": {
        "colab": {
          "base_uri": "https://localhost:8080/",
          "height": 139
        },
        "id": "VoGS9ZR332tj",
        "outputId": "ebe3a859-15e2-42e9-8f85-128077b5d5f6"
      },
      "execution_count": 27,
      "outputs": [
        {
          "output_type": "execute_result",
          "data": {
            "text/latex": "$\\displaystyle \\left[\\begin{matrix}3 & 3 & 3 & 3 & 3 & 3\\\\0 & - \\frac{5}{6} & - \\frac{10}{11} & - \\frac{15}{16} & - \\frac{20}{21} & - \\frac{25}{26}\\\\0 & 0 & - \\frac{2}{3} & - \\frac{3}{4} & - \\frac{4}{5} & - \\frac{5}{6}\\\\0 & 0 & 0 & - \\frac{39}{1540} & - \\frac{688}{17325} & - \\frac{7}{143}\\\\0 & 0 & 0 & 0 & \\frac{2}{6825} & \\frac{123}{208208}\\\\0 & 0 & 0 & 0 & 0 & - \\frac{32}{25882857}\\end{matrix}\\right]$",
            "text/plain": [
              "⎡3   3     3     3      3        3    ⎤\n",
              "⎢                                     ⎥\n",
              "⎢         -10   -15    -20      -25   ⎥\n",
              "⎢0  -5/6  ────  ────   ────     ────  ⎥\n",
              "⎢          11    16     21       26   ⎥\n",
              "⎢                                     ⎥\n",
              "⎢0   0    -2/3  -3/4   -4/5     -5/6  ⎥\n",
              "⎢                                     ⎥\n",
              "⎢               -39   -688            ⎥\n",
              "⎢0   0     0    ────  ─────    -7/143 ⎥\n",
              "⎢               1540  17325           ⎥\n",
              "⎢                                     ⎥\n",
              "⎢                               123   ⎥\n",
              "⎢0   0     0     0    2/6825   ────── ⎥\n",
              "⎢                              208208 ⎥\n",
              "⎢                                     ⎥\n",
              "⎢                               -32   ⎥\n",
              "⎢0   0     0     0      0     ────────⎥\n",
              "⎣                             25882857⎦"
            ]
          },
          "metadata": {},
          "execution_count": 27
        }
      ]
    },
    {
      "cell_type": "code",
      "source": [
        "U"
      ],
      "metadata": {
        "colab": {
          "base_uri": "https://localhost:8080/"
        },
        "id": "D4cZ8Wjm33vj",
        "outputId": "be3e94c7-5c78-45c9-c838-cb6a00cd3af7"
      },
      "execution_count": 28,
      "outputs": [
        {
          "output_type": "execute_result",
          "data": {
            "text/plain": [
              "array([[1., 0., 0., 0., 0., 0.],\n",
              "       [0., 0., 0., 0., 0., 1.],\n",
              "       [0., 1., 0., 0., 0., 0.],\n",
              "       [0., 0., 1., 0., 0., 0.],\n",
              "       [0., 0., 0., 1., 0., 0.],\n",
              "       [0., 0., 0., 0., 1., 0.]])"
            ]
          },
          "metadata": {},
          "execution_count": 28
        }
      ]
    },
    {
      "cell_type": "code",
      "source": [
        "P,L,U = PLU(A,1)"
      ],
      "metadata": {
        "id": "QpmBaVOf3mCq",
        "colab": {
          "base_uri": "https://localhost:8080/"
        },
        "outputId": "b27a750e-b274-4565-cf7b-9574cf47d8f8"
      },
      "execution_count": 29,
      "outputs": [
        {
          "output_type": "stream",
          "name": "stdout",
          "text": [
            "Matrix([[3, 3, 3, 3, 3, 3], [3, 3, 7/3, 9/4, 11/5, 13/6], [3, 7/3, 11/5, 15/7, 19/9, 23/11], [3, 9/4, 15/7, 21/10, 27/13, 33/16], [3, 11/5, 19/9, 27/13, 35/17, 43/21], [3, 13/6, 23/11, 33/16, 43/21, 53/26]])\n",
            "Matrix([[3, 3, 3, 3, 3, 3], [3, 3, 7/3, 9/4, 11/5, 13/6], [3, 7/3, 11/5, 15/7, 19/9, 23/11], [3, 9/4, 15/7, 21/10, 27/13, 33/16], [3, 11/5, 19/9, 27/13, 35/17, 43/21], [3, 13/6, 23/11, 33/16, 43/21, 53/26]])\n",
            "Matrix([[3, 3, 3, 3, 3, 3], [0, 0, -2/3, -3/4, -4/5, -5/6], [0, -2/3, -4/5, -6/7, -8/9, -10/11], [0, -3/4, -6/7, -9/10, -12/13, -15/16], [0, -4/5, -8/9, -12/13, -16/17, -20/21], [0, -5/6, -10/11, -15/16, -20/21, -25/26]])\n",
            "Matrix([[3, 3, 3, 3, 3, 3], [0, -5/6, -10/11, -15/16, -20/21, -25/26], [0, -2/3, -4/5, -6/7, -8/9, -10/11], [0, -3/4, -6/7, -9/10, -12/13, -15/16], [0, -4/5, -8/9, -12/13, -16/17, -20/21], [0, 0, -2/3, -3/4, -4/5, -5/6]])\n",
            "Matrix([[3, 3, 3, 3, 3, 3], [0, -5/6, -10/11, -15/16, -20/21, -25/26], [0, 0, -4/55, -3/28, -8/63, -20/143], [0, 0, -3/77, -9/160, -6/91, -15/208], [0, 0, -8/495, -3/130, -16/595, -8/273], [0, 0, -2/3, -3/4, -4/5, -5/6]])\n",
            "Matrix([[3, 3, 3, 3, 3, 3], [0, -5/6, -10/11, -15/16, -20/21, -25/26], [0, 0, -2/3, -3/4, -4/5, -5/6], [0, 0, -3/77, -9/160, -6/91, -15/208], [0, 0, -8/495, -3/130, -16/595, -8/273], [0, 0, -4/55, -3/28, -8/63, -20/143]])\n",
            "Matrix([[3, 3, 3, 3, 3, 3], [0, -5/6, -10/11, -15/16, -20/21, -25/26], [0, 0, -2/3, -3/4, -4/5, -5/6], [0, 0, 0, -153/12320, -96/5005, -375/16016], [0, 0, 0, -7/1430, -736/98175, -82/9009], [0, 0, 0, -39/1540, -688/17325, -7/143]])\n",
            "Matrix([[3, 3, 3, 3, 3, 3], [0, -5/6, -10/11, -15/16, -20/21, -25/26], [0, 0, -2/3, -3/4, -4/5, -5/6], [0, 0, 0, -39/1540, -688/17325, -7/143], [0, 0, 0, -7/1430, -736/98175, -82/9009], [0, 0, 0, -153/12320, -96/5005, -375/16016]])\n",
            "Matrix([[3, 3, 3, 3, 3, 3], [0, -5/6, -10/11, -15/16, -20/21, -25/26], [0, 0, -2/3, -3/4, -4/5, -5/6], [0, 0, 0, -39/1540, -688/17325, -7/143], [0, 0, 0, 0, 2432/13574925, 548/1522521], [0, 0, 0, 0, 2/6825, 123/208208]])\n",
            "Matrix([[3, 3, 3, 3, 3, 3], [0, -5/6, -10/11, -15/16, -20/21, -25/26], [0, 0, -2/3, -3/4, -4/5, -5/6], [0, 0, 0, -39/1540, -688/17325, -7/143], [0, 0, 0, 0, 2/6825, 123/208208], [0, 0, 0, 0, 2432/13574925, 548/1522521]])\n",
            "Matrix([[3, 3, 3, 3, 3, 3], [0, -5/6, -10/11, -15/16, -20/21, -25/26], [0, 0, -2/3, -3/4, -4/5, -5/6], [0, 0, 0, -39/1540, -688/17325, -7/143], [0, 0, 0, 0, 2/6825, 123/208208], [0, 0, 0, 0, 0, -32/25882857]])\n",
            "Matrix([[3, 3, 3, 3, 3, 3], [0, -5/6, -10/11, -15/16, -20/21, -25/26], [0, 0, -2/3, -3/4, -4/5, -5/6], [0, 0, 0, -39/1540, -688/17325, -7/143], [0, 0, 0, 0, 2/6825, 123/208208], [0, 0, 0, 0, 0, -32/25882857]])\n"
          ]
        }
      ]
    },
    {
      "cell_type": "code",
      "source": [
        "P"
      ],
      "metadata": {
        "colab": {
          "base_uri": "https://localhost:8080/"
        },
        "outputId": "7d9d2309-5b03-43c2-b207-9328fd769947",
        "id": "l-ZKz9cg3zKB"
      },
      "execution_count": 30,
      "outputs": [
        {
          "output_type": "execute_result",
          "data": {
            "text/plain": [
              "array([[1.        , 0.        , 0.        , 0.        , 0.        ,\n",
              "        0.        ],\n",
              "       [1.        , 1.        , 0.        , 0.        , 0.        ,\n",
              "        0.        ],\n",
              "       [1.        , 0.8       , 1.        , 0.        , 0.        ,\n",
              "        0.        ],\n",
              "       [1.        , 0.9       , 0.05844156, 1.        , 0.        ,\n",
              "        0.        ],\n",
              "       [1.        , 0.96      , 0.02424242, 0.19329389, 1.        ,\n",
              "        0.        ],\n",
              "       [1.        , 0.        , 0.10909091, 0.49038462, 0.61136249,\n",
              "        1.        ]])"
            ]
          },
          "metadata": {},
          "execution_count": 30
        }
      ]
    },
    {
      "cell_type": "code",
      "source": [
        "L"
      ],
      "metadata": {
        "colab": {
          "base_uri": "https://localhost:8080/",
          "height": 139
        },
        "id": "tEDalj5D3-bm",
        "outputId": "cfa3debf-b363-4886-ddea-60ecc2936ec2"
      },
      "execution_count": 31,
      "outputs": [
        {
          "output_type": "execute_result",
          "data": {
            "text/latex": "$\\displaystyle \\left[\\begin{matrix}3 & 3 & 3 & 3 & 3 & 3\\\\0 & - \\frac{5}{6} & - \\frac{10}{11} & - \\frac{15}{16} & - \\frac{20}{21} & - \\frac{25}{26}\\\\0 & 0 & - \\frac{2}{3} & - \\frac{3}{4} & - \\frac{4}{5} & - \\frac{5}{6}\\\\0 & 0 & 0 & - \\frac{39}{1540} & - \\frac{688}{17325} & - \\frac{7}{143}\\\\0 & 0 & 0 & 0 & \\frac{2}{6825} & \\frac{123}{208208}\\\\0 & 0 & 0 & 0 & 0 & - \\frac{32}{25882857}\\end{matrix}\\right]$",
            "text/plain": [
              "⎡3   3     3     3      3        3    ⎤\n",
              "⎢                                     ⎥\n",
              "⎢         -10   -15    -20      -25   ⎥\n",
              "⎢0  -5/6  ────  ────   ────     ────  ⎥\n",
              "⎢          11    16     21       26   ⎥\n",
              "⎢                                     ⎥\n",
              "⎢0   0    -2/3  -3/4   -4/5     -5/6  ⎥\n",
              "⎢                                     ⎥\n",
              "⎢               -39   -688            ⎥\n",
              "⎢0   0     0    ────  ─────    -7/143 ⎥\n",
              "⎢               1540  17325           ⎥\n",
              "⎢                                     ⎥\n",
              "⎢                               123   ⎥\n",
              "⎢0   0     0     0    2/6825   ────── ⎥\n",
              "⎢                              208208 ⎥\n",
              "⎢                                     ⎥\n",
              "⎢                               -32   ⎥\n",
              "⎢0   0     0     0      0     ────────⎥\n",
              "⎣                             25882857⎦"
            ]
          },
          "metadata": {},
          "execution_count": 31
        }
      ]
    },
    {
      "cell_type": "code",
      "source": [
        "U"
      ],
      "metadata": {
        "colab": {
          "base_uri": "https://localhost:8080/",
          "height": 139
        },
        "id": "5vcy8msi3_ir",
        "outputId": "cbb4a027-4e05-4742-a700-1d8ac6c9f6e5"
      },
      "execution_count": null,
      "outputs": [
        {
          "output_type": "execute_result",
          "data": {
            "text/latex": "$\\displaystyle \\left[\\begin{matrix}3 & 3 & 3 & 3 & 3 & 3\\\\0 & 0 & - \\frac{2}{3} & - \\frac{3}{4} & - \\frac{4}{5} & - \\frac{5}{6}\\\\0 & - \\frac{2}{3} & - \\frac{4}{5} & - \\frac{6}{7} & - \\frac{8}{9} & - \\frac{10}{11}\\\\0 & - \\frac{3}{4} & - \\frac{6}{7} & - \\frac{9}{10} & - \\frac{12}{13} & - \\frac{15}{16}\\\\0 & - \\frac{4}{5} & - \\frac{8}{9} & - \\frac{12}{13} & - \\frac{16}{17} & - \\frac{20}{21}\\\\0 & - \\frac{5}{6} & - \\frac{10}{11} & - \\frac{15}{16} & - \\frac{20}{21} & - \\frac{25}{26}\\end{matrix}\\right]$",
            "text/plain": [
              "⎡3   3     3      3     3     3  ⎤\n",
              "⎢                                ⎥\n",
              "⎢0   0    -2/3  -3/4   -4/5  -5/6⎥\n",
              "⎢                                ⎥\n",
              "⎢                            -10 ⎥\n",
              "⎢0  -2/3  -4/5  -6/7   -8/9  ────⎥\n",
              "⎢                             11 ⎥\n",
              "⎢                                ⎥\n",
              "⎢                      -12   -15 ⎥\n",
              "⎢0  -3/4  -6/7  -9/10  ────  ────⎥\n",
              "⎢                       13    16 ⎥\n",
              "⎢                                ⎥\n",
              "⎢               -12    -16   -20 ⎥\n",
              "⎢0  -4/5  -8/9  ────   ────  ────⎥\n",
              "⎢                13     17    21 ⎥\n",
              "⎢                                ⎥\n",
              "⎢         -10   -15    -20   -25 ⎥\n",
              "⎢0  -5/6  ────  ────   ────  ────⎥\n",
              "⎣          11    16     21    26 ⎦"
            ]
          },
          "metadata": {},
          "execution_count": 30
        }
      ]
    },
    {
      "cell_type": "code",
      "source": [
        "P,L,U = PLU(A,2)"
      ],
      "metadata": {
        "id": "MNQAe63E3oJo"
      },
      "execution_count": null,
      "outputs": []
    },
    {
      "cell_type": "code",
      "source": [
        "P"
      ],
      "metadata": {
        "colab": {
          "base_uri": "https://localhost:8080/",
          "height": 139
        },
        "id": "jjDXHvHP4E2E",
        "outputId": "449650b7-f64c-44dc-ec0f-8f29652ae835"
      },
      "execution_count": null,
      "outputs": [
        {
          "output_type": "execute_result",
          "data": {
            "text/latex": "$\\displaystyle \\left[\\begin{matrix}1 & 0 & 0 & 0 & 0 & 0\\\\0 & 0 & 0 & 0 & 0 & 1\\\\0 & 0 & 1 & 0 & 0 & 0\\\\0 & 0 & 0 & 1 & 0 & 0\\\\0 & 0 & 0 & 0 & 1 & 0\\\\0 & 1 & 0 & 0 & 0 & 0\\end{matrix}\\right]$",
            "text/plain": [
              "⎡1  0  0  0  0  0⎤\n",
              "⎢                ⎥\n",
              "⎢0  0  0  0  0  1⎥\n",
              "⎢                ⎥\n",
              "⎢0  0  1  0  0  0⎥\n",
              "⎢                ⎥\n",
              "⎢0  0  0  1  0  0⎥\n",
              "⎢                ⎥\n",
              "⎢0  0  0  0  1  0⎥\n",
              "⎢                ⎥\n",
              "⎣0  1  0  0  0  0⎦"
            ]
          },
          "metadata": {},
          "execution_count": 32
        }
      ]
    },
    {
      "cell_type": "code",
      "source": [
        "L"
      ],
      "metadata": {
        "colab": {
          "base_uri": "https://localhost:8080/",
          "height": 139
        },
        "id": "MjqUuewP4Gm0",
        "outputId": "64b3c94a-2c91-44af-86e2-77911fc36312"
      },
      "execution_count": null,
      "outputs": [
        {
          "output_type": "execute_result",
          "data": {
            "text/latex": "$\\displaystyle \\left[\\begin{matrix}1 & 0 & 0 & 0 & 0 & 0\\\\-1 & 1 & 0 & 0 & 0 & 0\\\\-1 & - \\frac{4}{5} & 1 & 0 & 0 & 0\\\\-1 & - \\frac{9}{10} & 0 & 1 & 0 & 0\\\\-1 & - \\frac{24}{25} & 0 & 0 & 1 & 0\\\\-1 & 0 & 0 & 0 & 0 & 1\\end{matrix}\\right]$",
            "text/plain": [
              "⎡1     0    0  0  0  0⎤\n",
              "⎢                     ⎥\n",
              "⎢-1    1    0  0  0  0⎥\n",
              "⎢                     ⎥\n",
              "⎢-1  -4/5   1  0  0  0⎥\n",
              "⎢                     ⎥\n",
              "⎢-1  -9/10  0  1  0  0⎥\n",
              "⎢                     ⎥\n",
              "⎢    -24              ⎥\n",
              "⎢-1  ────   0  0  1  0⎥\n",
              "⎢     25              ⎥\n",
              "⎢                     ⎥\n",
              "⎣-1    0    0  0  0  1⎦"
            ]
          },
          "metadata": {},
          "execution_count": 33
        }
      ]
    },
    {
      "cell_type": "code",
      "source": [
        "U"
      ],
      "metadata": {
        "colab": {
          "base_uri": "https://localhost:8080/",
          "height": 139
        },
        "id": "WSPyFWrl4Hz2",
        "outputId": "67364874-46fc-42b3-d960-1cdb7cb9aec8"
      },
      "execution_count": null,
      "outputs": [
        {
          "output_type": "execute_result",
          "data": {
            "text/latex": "$\\displaystyle \\left[\\begin{matrix}3 & 3 & 3 & 3 & 3 & 3\\\\0 & - \\frac{5}{6} & - \\frac{10}{11} & - \\frac{15}{16} & - \\frac{20}{21} & - \\frac{25}{26}\\\\0 & 0 & - \\frac{4}{55} & - \\frac{3}{28} & - \\frac{8}{63} & - \\frac{20}{143}\\\\0 & 0 & - \\frac{3}{77} & - \\frac{9}{160} & - \\frac{6}{91} & - \\frac{15}{208}\\\\0 & 0 & - \\frac{8}{495} & - \\frac{3}{130} & - \\frac{16}{595} & - \\frac{8}{273}\\\\0 & 0 & - \\frac{2}{3} & - \\frac{3}{4} & - \\frac{4}{5} & - \\frac{5}{6}\\end{matrix}\\right]$",
            "text/plain": [
              "⎡3   3      3       3       3      3   ⎤\n",
              "⎢                                      ⎥\n",
              "⎢          -10     -15    -20     -25  ⎥\n",
              "⎢0  -5/6   ────    ────   ────    ──── ⎥\n",
              "⎢           11      16     21      26  ⎥\n",
              "⎢                                      ⎥\n",
              "⎢                                 -20  ⎥\n",
              "⎢0   0    -4/55   -3/28   -8/63   ──── ⎥\n",
              "⎢                                 143  ⎥\n",
              "⎢                                      ⎥\n",
              "⎢                                 -15  ⎥\n",
              "⎢0   0    -3/77   -9/160  -6/91   ──── ⎥\n",
              "⎢                                 208  ⎥\n",
              "⎢                                      ⎥\n",
              "⎢                         -16          ⎥\n",
              "⎢0   0    -8/495  -3/130  ────   -8/273⎥\n",
              "⎢                         595          ⎥\n",
              "⎢                                      ⎥\n",
              "⎣0   0     -2/3    -3/4   -4/5    -5/6 ⎦"
            ]
          },
          "metadata": {},
          "execution_count": 34
        }
      ]
    },
    {
      "cell_type": "code",
      "source": [
        "P,L,U = PLU(A,3)"
      ],
      "metadata": {
        "id": "DSzs0LN33mYU"
      },
      "execution_count": null,
      "outputs": []
    },
    {
      "cell_type": "code",
      "source": [
        "P"
      ],
      "metadata": {
        "colab": {
          "base_uri": "https://localhost:8080/",
          "height": 139
        },
        "id": "0XpSv-M_4VSW",
        "outputId": "3dd8a4ea-3f36-4456-c632-9f6c866e118d"
      },
      "execution_count": null,
      "outputs": [
        {
          "output_type": "execute_result",
          "data": {
            "text/latex": "$\\displaystyle \\left[\\begin{matrix}1 & 0 & 0 & 0 & 0 & 0\\\\0 & 0 & 0 & 0 & 0 & 1\\\\0 & 1 & 0 & 0 & 0 & 0\\\\0 & 0 & 0 & 1 & 0 & 0\\\\0 & 0 & 0 & 0 & 1 & 0\\\\0 & 0 & 1 & 0 & 0 & 0\\end{matrix}\\right]$",
            "text/plain": [
              "⎡1  0  0  0  0  0⎤\n",
              "⎢                ⎥\n",
              "⎢0  0  0  0  0  1⎥\n",
              "⎢                ⎥\n",
              "⎢0  1  0  0  0  0⎥\n",
              "⎢                ⎥\n",
              "⎢0  0  0  1  0  0⎥\n",
              "⎢                ⎥\n",
              "⎢0  0  0  0  1  0⎥\n",
              "⎢                ⎥\n",
              "⎣0  0  1  0  0  0⎦"
            ]
          },
          "metadata": {},
          "execution_count": 36
        }
      ]
    },
    {
      "cell_type": "code",
      "source": [
        "L"
      ],
      "metadata": {
        "colab": {
          "base_uri": "https://localhost:8080/",
          "height": 139
        },
        "id": "Qd8qheQQ4WAM",
        "outputId": "90dfd341-03e4-497c-9ec2-b4c374938c25"
      },
      "execution_count": null,
      "outputs": [
        {
          "output_type": "execute_result",
          "data": {
            "text/latex": "$\\displaystyle \\left[\\begin{matrix}1 & 0 & 0 & 0 & 0 & 0\\\\-1 & 1 & 0 & 0 & 0 & 0\\\\-1 & 0 & 1 & 0 & 0 & 0\\\\-1 & - \\frac{9}{10} & - \\frac{9}{154} & 1 & 0 & 0\\\\-1 & - \\frac{24}{25} & - \\frac{4}{165} & 0 & 1 & 0\\\\-1 & - \\frac{4}{5} & - \\frac{6}{55} & 0 & 0 & 1\\end{matrix}\\right]$",
            "text/plain": [
              "⎡1     0      0     0  0  0⎤\n",
              "⎢                          ⎥\n",
              "⎢-1    1      0     0  0  0⎥\n",
              "⎢                          ⎥\n",
              "⎢-1    0      1     0  0  0⎥\n",
              "⎢                          ⎥\n",
              "⎢-1  -9/10  -9/154  1  0  0⎥\n",
              "⎢                          ⎥\n",
              "⎢    -24                   ⎥\n",
              "⎢-1  ────   -4/165  0  1  0⎥\n",
              "⎢     25                   ⎥\n",
              "⎢                          ⎥\n",
              "⎣-1  -4/5   -6/55   0  0  1⎦"
            ]
          },
          "metadata": {},
          "execution_count": 37
        }
      ]
    },
    {
      "cell_type": "code",
      "source": [
        "U"
      ],
      "metadata": {
        "colab": {
          "base_uri": "https://localhost:8080/",
          "height": 139
        },
        "id": "m3ccUX6f4Yhz",
        "outputId": "081e6ca3-2381-48a1-f19d-5f2f05a2b49d"
      },
      "execution_count": null,
      "outputs": [
        {
          "output_type": "execute_result",
          "data": {
            "text/latex": "$\\displaystyle \\left[\\begin{matrix}3 & 3 & 3 & 3 & 3 & 3\\\\0 & - \\frac{5}{6} & - \\frac{10}{11} & - \\frac{15}{16} & - \\frac{20}{21} & - \\frac{25}{26}\\\\0 & 0 & - \\frac{2}{3} & - \\frac{3}{4} & - \\frac{4}{5} & - \\frac{5}{6}\\\\0 & 0 & 0 & - \\frac{153}{12320} & - \\frac{96}{5005} & - \\frac{375}{16016}\\\\0 & 0 & 0 & - \\frac{7}{1430} & - \\frac{736}{98175} & - \\frac{82}{9009}\\\\0 & 0 & 0 & - \\frac{39}{1540} & - \\frac{688}{17325} & - \\frac{7}{143}\\end{matrix}\\right]$",
            "text/plain": [
              "⎡3   3     3       3       3      3   ⎤\n",
              "⎢                                     ⎥\n",
              "⎢         -10    -15     -20     -25  ⎥\n",
              "⎢0  -5/6  ────   ────    ────    ──── ⎥\n",
              "⎢          11     16      21      26  ⎥\n",
              "⎢                                     ⎥\n",
              "⎢0   0    -2/3   -3/4    -4/5    -5/6 ⎥\n",
              "⎢                                     ⎥\n",
              "⎢                -153    -96    -375  ⎥\n",
              "⎢0   0     0     ─────   ────   ───── ⎥\n",
              "⎢                12320   5005   16016 ⎥\n",
              "⎢                                     ⎥\n",
              "⎢                        -736    -82  ⎥\n",
              "⎢0   0     0    -7/1430  ─────   ──── ⎥\n",
              "⎢                        98175   9009 ⎥\n",
              "⎢                                     ⎥\n",
              "⎢                -39     -688         ⎥\n",
              "⎢0   0     0     ────    ─────  -7/143⎥\n",
              "⎣                1540    17325        ⎦"
            ]
          },
          "metadata": {},
          "execution_count": 38
        }
      ]
    },
    {
      "cell_type": "code",
      "source": [
        "P,L,U = PLU(A,4)"
      ],
      "metadata": {
        "id": "jpBFLp-L3mfd"
      },
      "execution_count": null,
      "outputs": []
    },
    {
      "cell_type": "code",
      "source": [
        "P"
      ],
      "metadata": {
        "colab": {
          "base_uri": "https://localhost:8080/",
          "height": 139
        },
        "outputId": "25387e6b-d7e4-44b5-8e94-90573cb660a5",
        "id": "ksFa4z0g3zYG"
      },
      "execution_count": null,
      "outputs": [
        {
          "output_type": "execute_result",
          "data": {
            "text/latex": "$\\displaystyle \\left[\\begin{matrix}1 & 0 & 0 & 0 & 0 & 0\\\\0 & 0 & 0 & 0 & 0 & 1\\\\0 & 1 & 0 & 0 & 0 & 0\\\\0 & 0 & 1 & 0 & 0 & 0\\\\0 & 0 & 0 & 0 & 1 & 0\\\\0 & 0 & 0 & 1 & 0 & 0\\end{matrix}\\right]$",
            "text/plain": [
              "⎡1  0  0  0  0  0⎤\n",
              "⎢                ⎥\n",
              "⎢0  0  0  0  0  1⎥\n",
              "⎢                ⎥\n",
              "⎢0  1  0  0  0  0⎥\n",
              "⎢                ⎥\n",
              "⎢0  0  1  0  0  0⎥\n",
              "⎢                ⎥\n",
              "⎢0  0  0  0  1  0⎥\n",
              "⎢                ⎥\n",
              "⎣0  0  0  1  0  0⎦"
            ]
          },
          "metadata": {},
          "execution_count": 40
        }
      ]
    },
    {
      "cell_type": "code",
      "source": [
        "L"
      ],
      "metadata": {
        "colab": {
          "base_uri": "https://localhost:8080/",
          "height": 139
        },
        "outputId": "bb4b733a-4ca4-4c42-e2e3-7f9327f978bc",
        "id": "I3G1R_Yj3zf1"
      },
      "execution_count": null,
      "outputs": [
        {
          "output_type": "execute_result",
          "data": {
            "text/latex": "$\\displaystyle \\left[\\begin{matrix}1 & 0 & 0 & 0 & 0 & 0\\\\-1 & 1 & 0 & 0 & 0 & 0\\\\-1 & 0 & 1 & 0 & 0 & 0\\\\-1 & - \\frac{4}{5} & - \\frac{6}{55} & 1 & 0 & 0\\\\-1 & - \\frac{24}{25} & - \\frac{4}{165} & - \\frac{98}{507} & 1 & 0\\\\-1 & - \\frac{9}{10} & - \\frac{9}{154} & - \\frac{51}{104} & 0 & 1\\end{matrix}\\right]$",
            "text/plain": [
              "⎡1     0      0      0    0  0⎤\n",
              "⎢                             ⎥\n",
              "⎢-1    1      0      0    0  0⎥\n",
              "⎢                             ⎥\n",
              "⎢-1    0      1      0    0  0⎥\n",
              "⎢                             ⎥\n",
              "⎢-1  -4/5   -6/55    1    0  0⎥\n",
              "⎢                             ⎥\n",
              "⎢    -24            -98       ⎥\n",
              "⎢-1  ────   -4/165  ────  1  0⎥\n",
              "⎢     25            507       ⎥\n",
              "⎢                             ⎥\n",
              "⎢                   -51       ⎥\n",
              "⎢-1  -9/10  -9/154  ────  0  1⎥\n",
              "⎣                   104       ⎦"
            ]
          },
          "metadata": {},
          "execution_count": 41
        }
      ]
    },
    {
      "cell_type": "code",
      "source": [
        "U"
      ],
      "metadata": {
        "colab": {
          "base_uri": "https://localhost:8080/",
          "height": 139
        },
        "outputId": "08b2f7d8-d1ba-477f-fb92-ecf9d64263ed",
        "id": "SXUKqT8Q3zo5"
      },
      "execution_count": null,
      "outputs": [
        {
          "output_type": "execute_result",
          "data": {
            "text/latex": "$\\displaystyle \\left[\\begin{matrix}3 & 3 & 3 & 3 & 3 & 3\\\\0 & - \\frac{5}{6} & - \\frac{10}{11} & - \\frac{15}{16} & - \\frac{20}{21} & - \\frac{25}{26}\\\\0 & 0 & - \\frac{2}{3} & - \\frac{3}{4} & - \\frac{4}{5} & - \\frac{5}{6}\\\\0 & 0 & 0 & - \\frac{39}{1540} & - \\frac{688}{17325} & - \\frac{7}{143}\\\\0 & 0 & 0 & 0 & \\frac{2432}{13574925} & \\frac{548}{1522521}\\\\0 & 0 & 0 & 0 & \\frac{2}{6825} & \\frac{123}{208208}\\end{matrix}\\right]$",
            "text/plain": [
              "⎡3   3     3     3       3         3   ⎤\n",
              "⎢                                      ⎥\n",
              "⎢         -10   -15     -20      -25   ⎥\n",
              "⎢0  -5/6  ────  ────    ────     ────  ⎥\n",
              "⎢          11    16      21       26   ⎥\n",
              "⎢                                      ⎥\n",
              "⎢0   0    -2/3  -3/4    -4/5     -5/6  ⎥\n",
              "⎢                                      ⎥\n",
              "⎢               -39    -688            ⎥\n",
              "⎢0   0     0    ────   ─────    -7/143 ⎥\n",
              "⎢               1540   17325           ⎥\n",
              "⎢                                      ⎥\n",
              "⎢                       2432      548  ⎥\n",
              "⎢0   0     0     0    ────────  ───────⎥\n",
              "⎢                     13574925  1522521⎥\n",
              "⎢                                      ⎥\n",
              "⎢                                123   ⎥\n",
              "⎢0   0     0     0     2/6825   ────── ⎥\n",
              "⎣                               208208 ⎦"
            ]
          },
          "metadata": {},
          "execution_count": 42
        }
      ]
    },
    {
      "cell_type": "code",
      "source": [
        "P,L,U = PLU(A,5)"
      ],
      "metadata": {
        "id": "HcG_6dUr4jzs"
      },
      "execution_count": 45,
      "outputs": []
    },
    {
      "cell_type": "code",
      "source": [
        "P"
      ],
      "metadata": {
        "colab": {
          "base_uri": "https://localhost:8080/",
          "height": 139
        },
        "id": "qnH2JLRu4mM1",
        "outputId": "06d0168e-af96-42a6-e677-275e17b6b29a"
      },
      "execution_count": null,
      "outputs": [
        {
          "output_type": "execute_result",
          "data": {
            "text/latex": "$\\displaystyle \\left[\\begin{matrix}1 & 0 & 0 & 0 & 0 & 0\\\\0 & 0 & 0 & 0 & 0 & 1\\\\0 & 1 & 0 & 0 & 0 & 0\\\\0 & 0 & 1 & 0 & 0 & 0\\\\0 & 0 & 0 & 1 & 0 & 0\\\\0 & 0 & 0 & 0 & 1 & 0\\end{matrix}\\right]$",
            "text/plain": [
              "⎡1  0  0  0  0  0⎤\n",
              "⎢                ⎥\n",
              "⎢0  0  0  0  0  1⎥\n",
              "⎢                ⎥\n",
              "⎢0  1  0  0  0  0⎥\n",
              "⎢                ⎥\n",
              "⎢0  0  1  0  0  0⎥\n",
              "⎢                ⎥\n",
              "⎢0  0  0  1  0  0⎥\n",
              "⎢                ⎥\n",
              "⎣0  0  0  0  1  0⎦"
            ]
          },
          "metadata": {},
          "execution_count": 44
        }
      ]
    },
    {
      "cell_type": "code",
      "source": [
        "L"
      ],
      "metadata": {
        "colab": {
          "base_uri": "https://localhost:8080/",
          "height": 139
        },
        "id": "5mBFJUhZ4mu9",
        "outputId": "c4141ee2-0159-4ca3-89f5-02c477d367f5"
      },
      "execution_count": 35,
      "outputs": [
        {
          "output_type": "execute_result",
          "data": {
            "text/latex": "$\\displaystyle \\left[\\begin{matrix}3 & 3 & 3 & 3 & 3 & 3\\\\0 & - \\frac{5}{6} & - \\frac{10}{11} & - \\frac{15}{16} & - \\frac{20}{21} & - \\frac{25}{26}\\\\0 & 0 & - \\frac{2}{3} & - \\frac{3}{4} & - \\frac{4}{5} & - \\frac{5}{6}\\\\0 & 0 & 0 & - \\frac{39}{1540} & - \\frac{688}{17325} & - \\frac{7}{143}\\\\0 & 0 & 0 & 0 & \\frac{2}{6825} & \\frac{123}{208208}\\\\0 & 0 & 0 & 0 & 0 & - \\frac{32}{25882857}\\end{matrix}\\right]$",
            "text/plain": [
              "⎡3   3     3     3      3        3    ⎤\n",
              "⎢                                     ⎥\n",
              "⎢         -10   -15    -20      -25   ⎥\n",
              "⎢0  -5/6  ────  ────   ────     ────  ⎥\n",
              "⎢          11    16     21       26   ⎥\n",
              "⎢                                     ⎥\n",
              "⎢0   0    -2/3  -3/4   -4/5     -5/6  ⎥\n",
              "⎢                                     ⎥\n",
              "⎢               -39   -688            ⎥\n",
              "⎢0   0     0    ────  ─────    -7/143 ⎥\n",
              "⎢               1540  17325           ⎥\n",
              "⎢                                     ⎥\n",
              "⎢                               123   ⎥\n",
              "⎢0   0     0     0    2/6825   ────── ⎥\n",
              "⎢                              208208 ⎥\n",
              "⎢                                     ⎥\n",
              "⎢                               -32   ⎥\n",
              "⎢0   0     0     0      0     ────────⎥\n",
              "⎣                             25882857⎦"
            ]
          },
          "metadata": {},
          "execution_count": 35
        }
      ]
    },
    {
      "cell_type": "code",
      "source": [
        "U"
      ],
      "metadata": {
        "colab": {
          "base_uri": "https://localhost:8080/"
        },
        "id": "gnrlu8H_4nhE",
        "outputId": "29a1f350-28d5-4760-d6e2-db177a56b75d"
      },
      "execution_count": 33,
      "outputs": [
        {
          "output_type": "execute_result",
          "data": {
            "text/plain": [
              "array([[1., 0., 0., 0., 0., 0.],\n",
              "       [0., 0., 0., 0., 0., 1.],\n",
              "       [0., 1., 0., 0., 0., 0.],\n",
              "       [0., 0., 1., 0., 0., 0.],\n",
              "       [0., 0., 0., 1., 0., 0.],\n",
              "       [0., 0., 0., 0., 1., 0.]])"
            ]
          },
          "metadata": {},
          "execution_count": 33
        }
      ]
    },
    {
      "cell_type": "code",
      "source": [
        "from sympy import  N\n",
        "N(U)\n"
      ],
      "metadata": {
        "colab": {
          "base_uri": "https://localhost:8080/",
          "height": 269
        },
        "id": "oy9KqpN85ecV",
        "outputId": "b397b0a7-d45e-4d6d-e8cf-be796a4054d0"
      },
      "execution_count": 44,
      "outputs": [
        {
          "output_type": "error",
          "ename": "AttributeError",
          "evalue": "ignored",
          "traceback": [
            "\u001b[0;31m---------------------------------------------------------------------------\u001b[0m",
            "\u001b[0;31mAttributeError\u001b[0m                            Traceback (most recent call last)",
            "\u001b[0;32m<ipython-input-44-dc8c603e421f>\u001b[0m in \u001b[0;36m<module>\u001b[0;34m()\u001b[0m\n\u001b[1;32m      1\u001b[0m \u001b[0;32mfrom\u001b[0m \u001b[0msympy\u001b[0m \u001b[0;32mimport\u001b[0m  \u001b[0mN\u001b[0m\u001b[0;34m\u001b[0m\u001b[0;34m\u001b[0m\u001b[0m\n\u001b[0;32m----> 2\u001b[0;31m \u001b[0mN\u001b[0m\u001b[0;34m(\u001b[0m\u001b[0mU\u001b[0m\u001b[0;34m)\u001b[0m\u001b[0;34m\u001b[0m\u001b[0;34m\u001b[0m\u001b[0m\n\u001b[0m",
            "\u001b[0;32m/usr/local/lib/python3.7/dist-packages/sympy/core/evalf.py\u001b[0m in \u001b[0;36mN\u001b[0;34m(x, n, **options)\u001b[0m\n\u001b[1;32m   1573\u001b[0m     \u001b[0;31m# by using rational=True, any evaluation of a string\u001b[0m\u001b[0;34m\u001b[0m\u001b[0;34m\u001b[0m\u001b[0;34m\u001b[0m\u001b[0m\n\u001b[1;32m   1574\u001b[0m     \u001b[0;31m# will be done using exact values for the Floats\u001b[0m\u001b[0;34m\u001b[0m\u001b[0;34m\u001b[0m\u001b[0;34m\u001b[0m\u001b[0m\n\u001b[0;32m-> 1575\u001b[0;31m     \u001b[0;32mreturn\u001b[0m \u001b[0msympify\u001b[0m\u001b[0;34m(\u001b[0m\u001b[0mx\u001b[0m\u001b[0;34m,\u001b[0m \u001b[0mrational\u001b[0m\u001b[0;34m=\u001b[0m\u001b[0;32mTrue\u001b[0m\u001b[0;34m)\u001b[0m\u001b[0;34m.\u001b[0m\u001b[0mevalf\u001b[0m\u001b[0;34m(\u001b[0m\u001b[0mn\u001b[0m\u001b[0;34m,\u001b[0m \u001b[0;34m**\u001b[0m\u001b[0moptions\u001b[0m\u001b[0;34m)\u001b[0m\u001b[0;34m\u001b[0m\u001b[0;34m\u001b[0m\u001b[0m\n\u001b[0m",
            "\u001b[0;31mAttributeError\u001b[0m: 'ImmutableDenseNDimArray' object has no attribute 'evalf'"
          ]
        }
      ]
    }
  ]
}
